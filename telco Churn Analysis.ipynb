{
 "cells": [
  {
   "cell_type": "markdown",
   "metadata": {},
   "source": [
    "# What is Churn?\n",
    "Customer attrition, also known as customer churn, customer turnover, or customer defection, is the loss of clients or customers."
   ]
  },
  {
   "cell_type": "markdown",
   "metadata": {},
   "source": [
    "# Customer Churn include:\n",
    "    - cancel a service that is under contract\n",
    "    - cancel a service that is not under contract\n",
    "    - expire a credit card\n",
    "    - purchase from a different store\n",
    "    ..."
   ]
  },
  {
   "cell_type": "code",
   "execution_count": 1,
   "metadata": {},
   "outputs": [],
   "source": [
    "import pandas as pd\n",
    "import matplotlib.pyplot as plt\n",
    "import seaborn as sns\n",
    "from sklearn.preprocessing import StandardScaler"
   ]
  },
  {
   "cell_type": "code",
   "execution_count": 2,
   "metadata": {},
   "outputs": [],
   "source": [
    "telco = pd.read_csv('Churn.csv')"
   ]
  },
  {
   "cell_type": "markdown",
   "metadata": {},
   "source": [
    "# Exploratory Data Analysis"
   ]
  },
  {
   "cell_type": "code",
   "execution_count": 3,
   "metadata": {},
   "outputs": [
    {
     "name": "stdout",
     "output_type": "stream",
     "text": [
      "<class 'pandas.core.frame.DataFrame'>\n",
      "RangeIndex: 3333 entries, 0 to 3332\n",
      "Data columns (total 21 columns):\n",
      "Account_Length    3333 non-null int64\n",
      "Vmail_Message     3333 non-null int64\n",
      "Day_Mins          3333 non-null float64\n",
      "Eve_Mins          3333 non-null float64\n",
      "Night_Mins        3333 non-null float64\n",
      "Intl_Mins         3333 non-null float64\n",
      "CustServ_Calls    3333 non-null int64\n",
      "Churn             3333 non-null object\n",
      "Intl_Plan         3333 non-null object\n",
      "Vmail_Plan        3333 non-null object\n",
      "Day_Calls         3333 non-null int64\n",
      "Day_Charge        3333 non-null float64\n",
      "Eve_Calls         3333 non-null int64\n",
      "Eve_Charge        3333 non-null float64\n",
      "Night_Calls       3333 non-null int64\n",
      "Night_Charge      3333 non-null float64\n",
      "Intl_Calls        3333 non-null int64\n",
      "Intl_Charge       3333 non-null float64\n",
      "State             3333 non-null object\n",
      "Area_Code         3333 non-null int64\n",
      "Phone             3333 non-null object\n",
      "dtypes: float64(8), int64(8), object(5)\n",
      "memory usage: 546.9+ KB\n"
     ]
    }
   ],
   "source": [
    "telco.info() #check out the structure and columns"
   ]
  },
  {
   "cell_type": "code",
   "execution_count": 4,
   "metadata": {},
   "outputs": [
    {
     "data": {
      "text/plain": [
       "no     2850\n",
       "yes     483\n",
       "Name: Churn, dtype: int64"
      ]
     },
     "execution_count": 4,
     "metadata": {},
     "output_type": "execute_result"
    }
   ],
   "source": [
    "telco['Churn'].value_counts()"
   ]
  },
  {
   "cell_type": "code",
   "execution_count": 5,
   "metadata": {},
   "outputs": [
    {
     "name": "stdout",
     "output_type": "stream",
     "text": [
      "       Account_Length  Vmail_Message    Day_Mins    Eve_Mins  Night_Mins  \\\n",
      "Churn                                                                      \n",
      "no         100.793684       8.604561  175.175754  199.043298  200.133193   \n",
      "yes        102.664596       5.115942  206.914079  212.410145  205.231677   \n",
      "\n",
      "       Intl_Mins  CustServ_Calls   Day_Calls  Day_Charge   Eve_Calls  \\\n",
      "Churn                                                                  \n",
      "no     10.158877        1.449825  100.283158   29.780421  100.038596   \n",
      "yes    10.700000        2.229814  101.335404   35.175921  100.561077   \n",
      "\n",
      "       Eve_Charge  Night_Calls  Night_Charge  Intl_Calls  Intl_Charge  \\\n",
      "Churn                                                                   \n",
      "no      16.918909   100.058246      9.006074    4.532982     2.743404   \n",
      "yes     18.054969   100.399586      9.235528    4.163561     2.889545   \n",
      "\n",
      "        Area_Code  \n",
      "Churn              \n",
      "no     437.074737  \n",
      "yes    437.817805  \n"
     ]
    }
   ],
   "source": [
    "print(telco.groupby(['Churn']).mean()) #compute the means for each column after grouped by Churn"
   ]
  },
  {
   "cell_type": "code",
   "execution_count": 6,
   "metadata": {},
   "outputs": [
    {
     "name": "stdout",
     "output_type": "stream",
     "text": [
      "       Account_Length  Vmail_Message   Day_Mins   Eve_Mins  Night_Mins  \\\n",
      "Churn                                                                    \n",
      "no           39.88235      13.913125  50.181655  50.292175   51.105032   \n",
      "yes          39.46782      11.860138  68.997792  51.728910   47.132825   \n",
      "\n",
      "       Intl_Mins  CustServ_Calls  Day_Calls  Day_Charge  Eve_Calls  \\\n",
      "Churn                                                                \n",
      "no      2.784489        1.163883  19.801157    8.530835  19.958414   \n",
      "yes     2.793190        1.853275  21.582307   11.729710  19.724711   \n",
      "\n",
      "       Eve_Charge  Night_Calls  Night_Charge  Intl_Calls  Intl_Charge  \\\n",
      "Churn                                                                   \n",
      "no       4.274863    19.506246      2.299768    2.441984     0.751784   \n",
      "yes      4.396762    19.950659      2.121081    2.551575     0.754152   \n",
      "\n",
      "       Area_Code  \n",
      "Churn             \n",
      "no     42.306156  \n",
      "yes    42.792270  \n"
     ]
    }
   ],
   "source": [
    "print(telco.groupby(['Churn']).std()) #compute the standard deviations for each column after grouped by Churn"
   ]
  },
  {
   "cell_type": "code",
   "execution_count": 7,
   "metadata": {},
   "outputs": [
    {
     "name": "stdout",
     "output_type": "stream",
     "text": [
      "State  Churn\n",
      "AK     no       49\n",
      "       yes       3\n",
      "AL     no       72\n",
      "       yes       8\n",
      "AR     no       44\n",
      "                ..\n",
      "WI     yes       7\n",
      "WV     no       96\n",
      "       yes      10\n",
      "WY     no       68\n",
      "       yes       9\n",
      "Name: Churn, Length: 102, dtype: int64\n"
     ]
    }
   ],
   "source": [
    "print(telco.groupby('State')['Churn'].value_counts()) #Churn & NotChurn per State"
   ]
  },
  {
   "cell_type": "code",
   "execution_count": 8,
   "metadata": {},
   "outputs": [
    {
     "data": {
      "image/png": "[encoded data removed]",
      "text/plain": [
       "<Figure size 432x288 with 1 Axes>"
      ]
     },
     "metadata": {
      "needs_background": "light"
     },
     "output_type": "display_data"
    }
   ],
   "source": [
    "sns.distplot(telco['Day_Mins'])\n",
    "sns.distplot(telco['Night_Mins'])\n",
    "plt.show() #compare 2 distributions of 2 features"
   ]
  },
  {
   "cell_type": "code",
   "execution_count": 9,
   "metadata": {},
   "outputs": [
    {
     "data": {
      "image/png": "[encoded data removed]",
      "text/plain": [
       "<Figure size 432x288 with 1 Axes>"
      ]
     },
     "metadata": {
      "needs_background": "light"
     },
     "output_type": "display_data"
    }
   ],
   "source": [
    "sns.boxplot(x = 'Churn',\n",
    "            y = 'CustServ_Calls',\n",
    "            data = telco,\n",
    "            sym = \"\", #remove outliers\n",
    "        hue = \"Vmail_Plan\") #add 3rd variable\n",
    "plt.show()"
   ]
  },
  {
   "cell_type": "markdown",
   "metadata": {},
   "source": [
    "# Preprocessing for Modeling\n",
    "- identify features to convert: Churn, Vmail_plan\n",
    "- encode binary features\n",
    "- one hot encoding\n",
    "- feature scaling"
   ]
  },
  {
   "cell_type": "code",
   "execution_count": 10,
   "metadata": {},
   "outputs": [
    {
     "data": {
      "text/plain": [
       "Account_Length      int64\n",
       "Vmail_Message       int64\n",
       "Day_Mins          float64\n",
       "Eve_Mins          float64\n",
       "Night_Mins        float64\n",
       "Intl_Mins         float64\n",
       "CustServ_Calls      int64\n",
       "Churn              object\n",
       "Intl_Plan          object\n",
       "Vmail_Plan         object\n",
       "Day_Calls           int64\n",
       "Day_Charge        float64\n",
       "Eve_Calls           int64\n",
       "Eve_Charge        float64\n",
       "Night_Calls         int64\n",
       "Night_Charge      float64\n",
       "Intl_Calls          int64\n",
       "Intl_Charge       float64\n",
       "State              object\n",
       "Area_Code           int64\n",
       "Phone              object\n",
       "dtype: object"
      ]
     },
     "execution_count": 10,
     "metadata": {},
     "output_type": "execute_result"
    }
   ],
   "source": [
    "telco.dtypes"
   ]
  },
  {
   "cell_type": "code",
   "execution_count": 11,
   "metadata": {},
   "outputs": [],
   "source": [
    "# Replace 'no' with 0 and 'yes' with 1 in 'Vmail_Plan'\n",
    "telco['Vmail_Plan'] = telco['Vmail_Plan'].replace({'no': 0 , 'yes': 1})\n",
    "\n",
    "# Replace 'no' with 0 and 'yes' with 1 in 'Churn'\n",
    "telco['Churn'] = telco['Churn'].replace({'no': 0 , 'yes': 1})"
   ]
  },
  {
   "cell_type": "code",
   "execution_count": 12,
   "metadata": {},
   "outputs": [
    {
     "name": "stdout",
     "output_type": "stream",
     "text": [
      "0    1\n",
      "1    1\n",
      "2    0\n",
      "3    0\n",
      "4    0\n",
      "Name: Vmail_Plan, dtype: int64\n",
      "0    0\n",
      "1    0\n",
      "2    0\n",
      "3    0\n",
      "4    0\n",
      "Name: Churn, dtype: int64\n"
     ]
    }
   ],
   "source": [
    "print(telco['Vmail_Plan'].head())\n",
    "print(telco['Churn'].head()) #print to verify"
   ]
  },
  {
   "cell_type": "code",
   "execution_count": 13,
   "metadata": {},
   "outputs": [],
   "source": [
    "telco_state = pd.get_dummies(telco['State']) #apply indicator variables to State"
   ]
  },
  {
   "cell_type": "code",
   "execution_count": 14,
   "metadata": {},
   "outputs": [
    {
     "name": "stdout",
     "output_type": "stream",
     "text": [
      "   AK  AL  AR  AZ  CA  CO  CT  DC  DE  FL  ...  SD  TN  TX  UT  VA  VT  WA  \\\n",
      "0   0   0   0   0   0   0   0   0   0   0  ...   0   0   0   0   0   0   0   \n",
      "1   0   0   0   0   0   0   0   0   0   0  ...   0   0   0   0   0   0   0   \n",
      "2   0   0   0   0   0   0   0   0   0   0  ...   0   0   0   0   0   0   0   \n",
      "3   0   0   0   0   0   0   0   0   0   0  ...   0   0   0   0   0   0   0   \n",
      "4   0   0   0   0   0   0   0   0   0   0  ...   0   0   0   0   0   0   0   \n",
      "\n",
      "   WI  WV  WY  \n",
      "0   0   0   0  \n",
      "1   0   0   0  \n",
      "2   0   0   0  \n",
      "3   0   0   0  \n",
      "4   0   0   0  \n",
      "\n",
      "[5 rows x 51 columns]\n"
     ]
    }
   ],
   "source": [
    "print(telco_state.head())"
   ]
  },
  {
   "cell_type": "code",
   "execution_count": 15,
   "metadata": {},
   "outputs": [],
   "source": [
    "telco_intl = pd.get_dummies(telco['Intl_Plan']) #get indicators for 'Intl_Plan'"
   ]
  },
  {
   "cell_type": "code",
   "execution_count": 16,
   "metadata": {},
   "outputs": [
    {
     "data": {
      "text/html": [
       "<div>\n",
       "<style scoped>\n",
       "    .dataframe tbody tr th:only-of-type {\n",
       "        vertical-align: middle;\n",
       "    }\n",
       "\n",
       "    .dataframe tbody tr th {\n",
       "        vertical-align: top;\n",
       "    }\n",
       "\n",
       "    .dataframe thead th {\n",
       "        text-align: right;\n",
       "    }\n",
       "</style>\n",
       "<table border=\"1\" class=\"dataframe\">\n",
       "  <thead>\n",
       "    <tr style=\"text-align: right;\">\n",
       "      <th></th>\n",
       "      <th>no</th>\n",
       "      <th>yes</th>\n",
       "    </tr>\n",
       "  </thead>\n",
       "  <tbody>\n",
       "    <tr>\n",
       "      <td>0</td>\n",
       "      <td>1</td>\n",
       "      <td>0</td>\n",
       "    </tr>\n",
       "    <tr>\n",
       "      <td>1</td>\n",
       "      <td>1</td>\n",
       "      <td>0</td>\n",
       "    </tr>\n",
       "    <tr>\n",
       "      <td>2</td>\n",
       "      <td>1</td>\n",
       "      <td>0</td>\n",
       "    </tr>\n",
       "    <tr>\n",
       "      <td>3</td>\n",
       "      <td>0</td>\n",
       "      <td>1</td>\n",
       "    </tr>\n",
       "    <tr>\n",
       "      <td>4</td>\n",
       "      <td>0</td>\n",
       "      <td>1</td>\n",
       "    </tr>\n",
       "  </tbody>\n",
       "</table>\n",
       "</div>"
      ],
      "text/plain": [
       "   no  yes\n",
       "0   1    0\n",
       "1   1    0\n",
       "2   1    0\n",
       "3   0    1\n",
       "4   0    1"
      ]
     },
     "execution_count": 16,
     "metadata": {},
     "output_type": "execute_result"
    }
   ],
   "source": [
    "telco_intl.head()"
   ]
  },
  {
   "cell_type": "code",
   "execution_count": 17,
   "metadata": {},
   "outputs": [],
   "source": [
    "telco = telco.drop(['State', 'Phone', 'Intl_Plan'], axis = 1)"
   ]
  },
  {
   "cell_type": "code",
   "execution_count": 18,
   "metadata": {},
   "outputs": [
    {
     "name": "stderr",
     "output_type": "stream",
     "text": [
      "/Users/Kainan/anaconda3/lib/python3.6/site-packages/pandas/core/frame.py:7123: FutureWarning: Sorting because non-concatenation axis is not aligned. A future version\n",
      "of pandas will change to not sort by default.\n",
      "\n",
      "To accept the future behavior, pass 'sort=False'.\n",
      "\n",
      "To retain the current behavior and silence the warning, pass 'sort=True'.\n",
      "\n",
      "  sort=sort,\n"
     ]
    }
   ],
   "source": [
    "telco = telco.append(telco_state)"
   ]
  },
  {
   "cell_type": "code",
   "execution_count": 19,
   "metadata": {},
   "outputs": [],
   "source": [
    "telco = telco.append(telco_intl)"
   ]
  },
  {
   "cell_type": "code",
   "execution_count": 20,
   "metadata": {},
   "outputs": [
    {
     "name": "stdout",
     "output_type": "stream",
     "text": [
      "<class 'pandas.core.frame.DataFrame'>\n",
      "Int64Index: 9999 entries, 0 to 3332\n",
      "Data columns (total 71 columns):\n",
      "AK                3333 non-null float64\n",
      "AL                3333 non-null float64\n",
      "AR                3333 non-null float64\n",
      "AZ                3333 non-null float64\n",
      "Account_Length    3333 non-null float64\n",
      "Area_Code         3333 non-null float64\n",
      "CA                3333 non-null float64\n",
      "CO                3333 non-null float64\n",
      "CT                3333 non-null float64\n",
      "Churn             3333 non-null float64\n",
      "CustServ_Calls    3333 non-null float64\n",
      "DC                3333 non-null float64\n",
      "DE                3333 non-null float64\n",
      "Day_Calls         3333 non-null float64\n",
      "Day_Charge        3333 non-null float64\n",
      "Day_Mins          3333 non-null float64\n",
      "Eve_Calls         3333 non-null float64\n",
      "Eve_Charge        3333 non-null float64\n",
      "Eve_Mins          3333 non-null float64\n",
      "FL                3333 non-null float64\n",
      "GA                3333 non-null float64\n",
      "HI                3333 non-null float64\n",
      "IA                3333 non-null float64\n",
      "ID                3333 non-null float64\n",
      "IL                3333 non-null float64\n",
      "IN                3333 non-null float64\n",
      "Intl_Calls        3333 non-null float64\n",
      "Intl_Charge       3333 non-null float64\n",
      "Intl_Mins         3333 non-null float64\n",
      "KS                3333 non-null float64\n",
      "KY                3333 non-null float64\n",
      "LA                3333 non-null float64\n",
      "MA                3333 non-null float64\n",
      "MD                3333 non-null float64\n",
      "ME                3333 non-null float64\n",
      "MI                3333 non-null float64\n",
      "MN                3333 non-null float64\n",
      "MO                3333 non-null float64\n",
      "MS                3333 non-null float64\n",
      "MT                3333 non-null float64\n",
      "NC                3333 non-null float64\n",
      "ND                3333 non-null float64\n",
      "NE                3333 non-null float64\n",
      "NH                3333 non-null float64\n",
      "NJ                3333 non-null float64\n",
      "NM                3333 non-null float64\n",
      "NV                3333 non-null float64\n",
      "NY                3333 non-null float64\n",
      "Night_Calls       3333 non-null float64\n",
      "Night_Charge      3333 non-null float64\n",
      "Night_Mins        3333 non-null float64\n",
      "OH                3333 non-null float64\n",
      "OK                3333 non-null float64\n",
      "OR                3333 non-null float64\n",
      "PA                3333 non-null float64\n",
      "RI                3333 non-null float64\n",
      "SC                3333 non-null float64\n",
      "SD                3333 non-null float64\n",
      "TN                3333 non-null float64\n",
      "TX                3333 non-null float64\n",
      "UT                3333 non-null float64\n",
      "VA                3333 non-null float64\n",
      "VT                3333 non-null float64\n",
      "Vmail_Message     3333 non-null float64\n",
      "Vmail_Plan        3333 non-null float64\n",
      "WA                3333 non-null float64\n",
      "WI                3333 non-null float64\n",
      "WV                3333 non-null float64\n",
      "WY                3333 non-null float64\n",
      "no                3333 non-null float64\n",
      "yes               3333 non-null float64\n",
      "dtypes: float64(71)\n",
      "memory usage: 5.5 MB\n"
     ]
    }
   ],
   "source": [
    "#telco.info()"
   ]
  },
  {
   "cell_type": "code",
   "execution_count": 21,
   "metadata": {},
   "outputs": [
    {
     "data": {
      "text/html": [
       "<div>\n",
       "<style scoped>\n",
       "    .dataframe tbody tr th:only-of-type {\n",
       "        vertical-align: middle;\n",
       "    }\n",
       "\n",
       "    .dataframe tbody tr th {\n",
       "        vertical-align: top;\n",
       "    }\n",
       "\n",
       "    .dataframe thead th {\n",
       "        text-align: right;\n",
       "    }\n",
       "</style>\n",
       "<table border=\"1\" class=\"dataframe\">\n",
       "  <thead>\n",
       "    <tr style=\"text-align: right;\">\n",
       "      <th></th>\n",
       "      <th>no</th>\n",
       "      <th>yes</th>\n",
       "    </tr>\n",
       "  </thead>\n",
       "  <tbody>\n",
       "    <tr>\n",
       "      <td>0</td>\n",
       "      <td>1</td>\n",
       "      <td>0</td>\n",
       "    </tr>\n",
       "    <tr>\n",
       "      <td>1</td>\n",
       "      <td>1</td>\n",
       "      <td>0</td>\n",
       "    </tr>\n",
       "    <tr>\n",
       "      <td>2</td>\n",
       "      <td>1</td>\n",
       "      <td>0</td>\n",
       "    </tr>\n",
       "    <tr>\n",
       "      <td>3</td>\n",
       "      <td>0</td>\n",
       "      <td>1</td>\n",
       "    </tr>\n",
       "    <tr>\n",
       "      <td>4</td>\n",
       "      <td>0</td>\n",
       "      <td>1</td>\n",
       "    </tr>\n",
       "  </tbody>\n",
       "</table>\n",
       "</div>"
      ],
      "text/plain": [
       "   no  yes\n",
       "0   1    0\n",
       "1   1    0\n",
       "2   1    0\n",
       "3   0    1\n",
       "4   0    1"
      ]
     },
     "execution_count": 21,
     "metadata": {},
     "output_type": "execute_result"
    }
   ],
   "source": [
    "telco_intl.head()"
   ]
  },
  {
   "cell_type": "code",
   "execution_count": 22,
   "metadata": {},
   "outputs": [
    {
     "data": {
      "text/plain": [
       "count    3333.000000\n",
       "mean        4.479448\n",
       "std         2.461214\n",
       "min         0.000000\n",
       "25%         3.000000\n",
       "50%         4.000000\n",
       "75%         6.000000\n",
       "max        20.000000\n",
       "Name: Intl_Calls, dtype: float64"
      ]
     },
     "execution_count": 22,
     "metadata": {},
     "output_type": "execute_result"
    }
   ],
   "source": [
    "telco['Intl_Calls'].describe()"
   ]
  },
  {
   "cell_type": "code",
   "execution_count": 23,
   "metadata": {},
   "outputs": [
    {
     "data": {
      "text/plain": [
       "count    3333.000000\n",
       "mean      200.872037\n",
       "std        50.573847\n",
       "min        23.200000\n",
       "25%       167.000000\n",
       "50%       201.200000\n",
       "75%       235.300000\n",
       "max       395.000000\n",
       "Name: Night_Mins, dtype: float64"
      ]
     },
     "execution_count": 23,
     "metadata": {},
     "output_type": "execute_result"
    }
   ],
   "source": [
    "telco['Night_Mins'].describe() #needs re-scaling"
   ]
  },
  {
   "cell_type": "code",
   "execution_count": 24,
   "metadata": {},
   "outputs": [],
   "source": [
    "telco_scale = telco[['Intl_Calls', 'Night_Mins']]"
   ]
  },
  {
   "cell_type": "code",
   "execution_count": 25,
   "metadata": {},
   "outputs": [],
   "source": [
    "telco_scaled = StandardScaler().fit_transform(telco_scale)"
   ]
  },
  {
   "cell_type": "code",
   "execution_count": 26,
   "metadata": {},
   "outputs": [
    {
     "data": {
      "text/plain": [
       "(9999, 2)"
      ]
     },
     "execution_count": 26,
     "metadata": {},
     "output_type": "execute_result"
    }
   ],
   "source": [
    "telco_scaled.shape"
   ]
  },
  {
   "cell_type": "code",
   "execution_count": 27,
   "metadata": {},
   "outputs": [],
   "source": [
    "telco_scaled_df = pd.DataFrame(telco_scaled, columns=[\"Intl_Calls\", \"Night_Mins\"]) # add column name back"
   ]
  },
  {
   "cell_type": "code",
   "execution_count": 28,
   "metadata": {},
   "outputs": [
    {
     "data": {
      "text/html": [
       "<div>\n",
       "<style scoped>\n",
       "    .dataframe tbody tr th:only-of-type {\n",
       "        vertical-align: middle;\n",
       "    }\n",
       "\n",
       "    .dataframe tbody tr th {\n",
       "        vertical-align: top;\n",
       "    }\n",
       "\n",
       "    .dataframe thead th {\n",
       "        text-align: right;\n",
       "    }\n",
       "</style>\n",
       "<table border=\"1\" class=\"dataframe\">\n",
       "  <thead>\n",
       "    <tr style=\"text-align: right;\">\n",
       "      <th></th>\n",
       "      <th>Intl_Calls</th>\n",
       "      <th>Night_Mins</th>\n",
       "    </tr>\n",
       "  </thead>\n",
       "  <tbody>\n",
       "    <tr>\n",
       "      <td>count</td>\n",
       "      <td>3.333000e+03</td>\n",
       "      <td>3.333000e+03</td>\n",
       "    </tr>\n",
       "    <tr>\n",
       "      <td>mean</td>\n",
       "      <td>-1.459062e-16</td>\n",
       "      <td>6.602046e-17</td>\n",
       "    </tr>\n",
       "    <tr>\n",
       "      <td>std</td>\n",
       "      <td>1.000150e+00</td>\n",
       "      <td>1.000150e+00</td>\n",
       "    </tr>\n",
       "    <tr>\n",
       "      <td>min</td>\n",
       "      <td>-1.820289e+00</td>\n",
       "      <td>-3.513648e+00</td>\n",
       "    </tr>\n",
       "    <tr>\n",
       "      <td>25%</td>\n",
       "      <td>-6.011951e-01</td>\n",
       "      <td>-6.698545e-01</td>\n",
       "    </tr>\n",
       "    <tr>\n",
       "      <td>50%</td>\n",
       "      <td>-1.948306e-01</td>\n",
       "      <td>6.485803e-03</td>\n",
       "    </tr>\n",
       "    <tr>\n",
       "      <td>75%</td>\n",
       "      <td>6.178983e-01</td>\n",
       "      <td>6.808485e-01</td>\n",
       "    </tr>\n",
       "    <tr>\n",
       "      <td>max</td>\n",
       "      <td>6.307001e+00</td>\n",
       "      <td>3.839081e+00</td>\n",
       "    </tr>\n",
       "  </tbody>\n",
       "</table>\n",
       "</div>"
      ],
      "text/plain": [
       "         Intl_Calls    Night_Mins\n",
       "count  3.333000e+03  3.333000e+03\n",
       "mean  -1.459062e-16  6.602046e-17\n",
       "std    1.000150e+00  1.000150e+00\n",
       "min   -1.820289e+00 -3.513648e+00\n",
       "25%   -6.011951e-01 -6.698545e-01\n",
       "50%   -1.948306e-01  6.485803e-03\n",
       "75%    6.178983e-01  6.808485e-01\n",
       "max    6.307001e+00  3.839081e+00"
      ]
     },
     "execution_count": 28,
     "metadata": {},
     "output_type": "execute_result"
    }
   ],
   "source": [
    "telco_scaled_df.describe()"
   ]
  },
  {
   "cell_type": "code",
   "execution_count": 29,
   "metadata": {},
   "outputs": [
    {
     "name": "stderr",
     "output_type": "stream",
     "text": [
      "/Users/Kainan/anaconda3/lib/python3.6/site-packages/pandas/core/frame.py:7123: FutureWarning: Sorting because non-concatenation axis is not aligned. A future version\n",
      "of pandas will change to not sort by default.\n",
      "\n",
      "To accept the future behavior, pass 'sort=False'.\n",
      "\n",
      "To retain the current behavior and silence the warning, pass 'sort=True'.\n",
      "\n",
      "  sort=sort,\n"
     ]
    }
   ],
   "source": [
    "telco = telco.append(telco_scaled_df)"
   ]
  },
  {
   "cell_type": "code",
   "execution_count": 30,
   "metadata": {},
   "outputs": [],
   "source": [
    "telco = telco.drop(['Area_Code'], axis = 1)"
   ]
  },
  {
   "cell_type": "code",
   "execution_count": 31,
   "metadata": {},
   "outputs": [],
   "source": [
    "#telco.info()\n",
    "telco.rename(columns={'no':'Intl_no', 'yes':'Intl_yes'}, inplace = True) #update column names.."
   ]
  },
  {
   "cell_type": "code",
   "execution_count": 32,
   "metadata": {},
   "outputs": [],
   "source": [
    "telco['Avg_Night_Calls'] = telco['Night_Mins']/telco['Night_Calls']"
   ]
  },
  {
   "cell_type": "code",
   "execution_count": 33,
   "metadata": {},
   "outputs": [
    {
     "data": {
      "text/plain": [
       "0    2.689011\n",
       "1    2.469903\n",
       "2    1.563462\n",
       "3    2.212360\n",
       "4    1.544628\n",
       "Name: Avg_Night_Calls, dtype: float64"
      ]
     },
     "execution_count": 33,
     "metadata": {},
     "output_type": "execute_result"
    }
   ],
   "source": [
    "telco['Avg_Night_Calls'].head()"
   ]
  },
  {
   "cell_type": "markdown",
   "metadata": {},
   "source": [
    "# Churn Prediction\n",
    "- Random Forest & Accuracy Score\n",
    "- Confustion Matrix\n",
    "- Precision & Recall\n",
    "- ROC Curve & AUC\n",
    "- F1 score"
   ]
  },
  {
   "cell_type": "code",
   "execution_count": 34,
   "metadata": {},
   "outputs": [],
   "source": [
    "#from sklearn.linear_model import LogisticRegression"
   ]
  },
  {
   "cell_type": "code",
   "execution_count": 35,
   "metadata": {},
   "outputs": [],
   "source": [
    "# Instantiate the classifier\n",
    "#clf = LogisticRegression()"
   ]
  },
  {
   "cell_type": "code",
   "execution_count": 49,
   "metadata": {},
   "outputs": [],
   "source": [
    "telco = pd.DataFrame(telco).fillna(0)\n",
    "#features = list(telco.columns)"
   ]
  },
  {
   "cell_type": "code",
   "execution_count": 44,
   "metadata": {},
   "outputs": [
    {
     "name": "stdout",
     "output_type": "stream",
     "text": [
      "<class 'pandas.core.frame.DataFrame'>\n",
      "Int64Index: 19998 entries, 0 to 9998\n",
      "Data columns (total 71 columns):\n",
      "AK                 3333 non-null float64\n",
      "AL                 3333 non-null float64\n",
      "AR                 3333 non-null float64\n",
      "AZ                 3333 non-null float64\n",
      "Account_Length     3333 non-null float64\n",
      "CA                 3333 non-null float64\n",
      "CO                 3333 non-null float64\n",
      "CT                 3333 non-null float64\n",
      "Churn              3333 non-null float64\n",
      "CustServ_Calls     3333 non-null float64\n",
      "DC                 3333 non-null float64\n",
      "DE                 3333 non-null float64\n",
      "Day_Calls          3333 non-null float64\n",
      "Day_Charge         3333 non-null float64\n",
      "Day_Mins           3333 non-null float64\n",
      "Eve_Calls          3333 non-null float64\n",
      "Eve_Charge         3333 non-null float64\n",
      "Eve_Mins           3333 non-null float64\n",
      "FL                 3333 non-null float64\n",
      "GA                 3333 non-null float64\n",
      "HI                 3333 non-null float64\n",
      "IA                 3333 non-null float64\n",
      "ID                 3333 non-null float64\n",
      "IL                 3333 non-null float64\n",
      "IN                 3333 non-null float64\n",
      "Intl_Calls         6666 non-null float64\n",
      "Intl_Charge        3333 non-null float64\n",
      "Intl_Mins          3333 non-null float64\n",
      "KS                 3333 non-null float64\n",
      "KY                 3333 non-null float64\n",
      "LA                 3333 non-null float64\n",
      "MA                 3333 non-null float64\n",
      "MD                 3333 non-null float64\n",
      "ME                 3333 non-null float64\n",
      "MI                 3333 non-null float64\n",
      "MN                 3333 non-null float64\n",
      "MO                 3333 non-null float64\n",
      "MS                 3333 non-null float64\n",
      "MT                 3333 non-null float64\n",
      "NC                 3333 non-null float64\n",
      "ND                 3333 non-null float64\n",
      "NE                 3333 non-null float64\n",
      "NH                 3333 non-null float64\n",
      "NJ                 3333 non-null float64\n",
      "NM                 3333 non-null float64\n",
      "NV                 3333 non-null float64\n",
      "NY                 3333 non-null float64\n",
      "Night_Calls        3333 non-null float64\n",
      "Night_Charge       3333 non-null float64\n",
      "Night_Mins         6666 non-null float64\n",
      "OH                 3333 non-null float64\n",
      "OK                 3333 non-null float64\n",
      "OR                 3333 non-null float64\n",
      "PA                 3333 non-null float64\n",
      "RI                 3333 non-null float64\n",
      "SC                 3333 non-null float64\n",
      "SD                 3333 non-null float64\n",
      "TN                 3333 non-null float64\n",
      "TX                 3333 non-null float64\n",
      "UT                 3333 non-null float64\n",
      "VA                 3333 non-null float64\n",
      "VT                 3333 non-null float64\n",
      "Vmail_Message      3333 non-null float64\n",
      "Vmail_Plan         3333 non-null float64\n",
      "WA                 3333 non-null float64\n",
      "WI                 3333 non-null float64\n",
      "WV                 3333 non-null float64\n",
      "WY                 3333 non-null float64\n",
      "Intl_no            3333 non-null float64\n",
      "Intl_yes           3333 non-null float64\n",
      "Avg_Night_Calls    3333 non-null float64\n",
      "dtypes: float64(71)\n",
      "memory usage: 11.0 MB\n"
     ]
    }
   ],
   "source": [
    "#telco.info()"
   ]
  },
  {
   "cell_type": "code",
   "execution_count": 50,
   "metadata": {},
   "outputs": [],
   "source": [
    "# Import train_test_split\n",
    "from sklearn.model_selection import train_test_split\n",
    "\n",
    "# Create feature variable\n",
    "X = telco.drop('Churn', axis=1)\n",
    "\n",
    "# Create target variable\n",
    "y = telco['Churn']\n",
    "\n",
    "# Create training and testing sets\n",
    "X_train, X_test, y_train, y_test = train_test_split(X, y, test_size=0.3)"
   ]
  },
  {
   "cell_type": "code",
   "execution_count": 51,
   "metadata": {},
   "outputs": [
    {
     "data": {
      "text/plain": [
       "13998"
      ]
     },
     "execution_count": 51,
     "metadata": {},
     "output_type": "execute_result"
    }
   ],
   "source": [
    "len(X_train)"
   ]
  },
  {
   "cell_type": "code",
   "execution_count": 52,
   "metadata": {},
   "outputs": [
    {
     "data": {
      "text/plain": [
       "(6000, 70)"
      ]
     },
     "execution_count": 52,
     "metadata": {},
     "output_type": "execute_result"
    }
   ],
   "source": [
    "X_test.shape"
   ]
  },
  {
   "cell_type": "code",
   "execution_count": 53,
   "metadata": {},
   "outputs": [
    {
     "name": "stdout",
     "output_type": "stream",
     "text": [
      "0.9856666666666667\n"
     ]
    },
    {
     "name": "stderr",
     "output_type": "stream",
     "text": [
      "/Users/Kainan/anaconda3/lib/python3.6/site-packages/sklearn/ensemble/forest.py:245: FutureWarning: The default value of n_estimators will change from 10 in version 0.20 to 100 in 0.22.\n",
      "  \"10 in version 0.20 to 100 in 0.22.\", FutureWarning)\n"
     ]
    }
   ],
   "source": [
    "# Import RandomForestClassifier\n",
    "from sklearn.ensemble import RandomForestClassifier\n",
    "\n",
    "# Instantiate the classifier\n",
    "clf = RandomForestClassifier()\n",
    "\n",
    "# Fit to the training data\n",
    "clf.fit(X_train, y_train)\n",
    "\n",
    "# Compute accuracy\n",
    "print(clf.score(X_test, y_test))"
   ]
  },
  {
   "cell_type": "code",
   "execution_count": 54,
   "metadata": {},
   "outputs": [
    {
     "name": "stdout",
     "output_type": "stream",
     "text": [
      "[[5854   11]\n",
      " [  75   60]]\n"
     ]
    }
   ],
   "source": [
    "y_pred = clf.predict(X_test)\n",
    "# Import confusion_matrix\n",
    "from sklearn.metrics import confusion_matrix\n",
    "\n",
    "# Print the confusion matrix\n",
    "print(confusion_matrix(y_test, y_pred))"
   ]
  },
  {
   "cell_type": "code",
   "execution_count": 55,
   "metadata": {},
   "outputs": [
    {
     "name": "stdout",
     "output_type": "stream",
     "text": [
      "0.8450704225352113\n",
      "0.4444444444444444\n"
     ]
    }
   ],
   "source": [
    "# Import precision_score\n",
    "from sklearn.metrics import precision_score\n",
    "\n",
    "# Print the recall\n",
    "print(precision_score(y_test, y_pred))\n",
    "\n",
    "# Import recall_score\n",
    "from sklearn.metrics import recall_score\n",
    "\n",
    "# Print the recall\n",
    "print(recall_score(y_test, y_pred))"
   ]
  },
  {
   "cell_type": "code",
   "execution_count": 56,
   "metadata": {},
   "outputs": [
    {
     "data": {
      "image/png": "[encoded data removed]",
      "text/plain": [
       "<Figure size 432x288 with 1 Axes>"
      ]
     },
     "metadata": {
      "needs_background": "light"
     },
     "output_type": "display_data"
    }
   ],
   "source": [
    "# Generate the probabilities\n",
    "y_pred_prob = clf.predict_proba(X_test)[:, 1]\n",
    "\n",
    "# Import roc_curve\n",
    "from sklearn.metrics import roc_curve\n",
    "\n",
    "# Calculate the roc metrics\n",
    "fpr, tpr, thresholds = roc_curve(y_test, y_pred_prob)\n",
    "\n",
    "# Plot the ROC curve\n",
    "plt.plot(fpr,tpr)\n",
    "\n",
    "# Add labels and diagonal line\n",
    "plt.xlabel(\"False Positive Rate\")\n",
    "plt.ylabel(\"True Positive Rate\")\n",
    "plt.plot([0, 1], [0, 1], \"k--\")\n",
    "plt.show()\n"
   ]
  },
  {
   "cell_type": "code",
   "execution_count": 57,
   "metadata": {},
   "outputs": [
    {
     "name": "stdout",
     "output_type": "stream",
     "text": [
      "0.9271983833791165\n"
     ]
    }
   ],
   "source": [
    "# Import roc_auc_score\n",
    "from sklearn.metrics import roc_auc_score\n",
    "\n",
    "# Print the AUC\n",
    "print(roc_auc_score(y_test, y_pred_prob))"
   ]
  },
  {
   "cell_type": "code",
   "execution_count": 58,
   "metadata": {},
   "outputs": [
    {
     "name": "stdout",
     "output_type": "stream",
     "text": [
      "0.5825242718446602\n"
     ]
    }
   ],
   "source": [
    "# Import f1_score\n",
    "from sklearn.metrics import f1_score\n",
    "\n",
    "# Print the F1 score\n",
    "print(f1_score(y_test, y_pred))"
   ]
  },
  {
   "cell_type": "markdown",
   "metadata": {},
   "source": [
    "# Model Tuning\n",
    "- Grid SearchCV"
   ]
  },
  {
   "cell_type": "code",
   "execution_count": 59,
   "metadata": {},
   "outputs": [
    {
     "name": "stderr",
     "output_type": "stream",
     "text": [
      "/Users/Kainan/anaconda3/lib/python3.6/site-packages/sklearn/model_selection/_split.py:1978: FutureWarning: The default value of cv will change from 3 to 5 in version 0.22. Specify it explicitly to silence this warning.\n",
      "  warnings.warn(CV_WARNING, FutureWarning)\n",
      "/Users/Kainan/anaconda3/lib/python3.6/site-packages/sklearn/ensemble/forest.py:245: FutureWarning: The default value of n_estimators will change from 10 in version 0.20 to 100 in 0.22.\n",
      "  \"10 in version 0.20 to 100 in 0.22.\", FutureWarning)\n",
      "/Users/Kainan/anaconda3/lib/python3.6/site-packages/sklearn/ensemble/forest.py:245: FutureWarning: The default value of n_estimators will change from 10 in version 0.20 to 100 in 0.22.\n",
      "  \"10 in version 0.20 to 100 in 0.22.\", FutureWarning)\n",
      "/Users/Kainan/anaconda3/lib/python3.6/site-packages/sklearn/ensemble/forest.py:245: FutureWarning: The default value of n_estimators will change from 10 in version 0.20 to 100 in 0.22.\n",
      "  \"10 in version 0.20 to 100 in 0.22.\", FutureWarning)\n",
      "/Users/Kainan/anaconda3/lib/python3.6/site-packages/sklearn/ensemble/forest.py:245: FutureWarning: The default value of n_estimators will change from 10 in version 0.20 to 100 in 0.22.\n",
      "  \"10 in version 0.20 to 100 in 0.22.\", FutureWarning)\n",
      "/Users/Kainan/anaconda3/lib/python3.6/site-packages/sklearn/ensemble/forest.py:245: FutureWarning: The default value of n_estimators will change from 10 in version 0.20 to 100 in 0.22.\n",
      "  \"10 in version 0.20 to 100 in 0.22.\", FutureWarning)\n",
      "/Users/Kainan/anaconda3/lib/python3.6/site-packages/sklearn/ensemble/forest.py:245: FutureWarning: The default value of n_estimators will change from 10 in version 0.20 to 100 in 0.22.\n",
      "  \"10 in version 0.20 to 100 in 0.22.\", FutureWarning)\n",
      "/Users/Kainan/anaconda3/lib/python3.6/site-packages/sklearn/ensemble/forest.py:245: FutureWarning: The default value of n_estimators will change from 10 in version 0.20 to 100 in 0.22.\n",
      "  \"10 in version 0.20 to 100 in 0.22.\", FutureWarning)\n",
      "/Users/Kainan/anaconda3/lib/python3.6/site-packages/sklearn/ensemble/forest.py:245: FutureWarning: The default value of n_estimators will change from 10 in version 0.20 to 100 in 0.22.\n",
      "  \"10 in version 0.20 to 100 in 0.22.\", FutureWarning)\n",
      "/Users/Kainan/anaconda3/lib/python3.6/site-packages/sklearn/ensemble/forest.py:245: FutureWarning: The default value of n_estimators will change from 10 in version 0.20 to 100 in 0.22.\n",
      "  \"10 in version 0.20 to 100 in 0.22.\", FutureWarning)\n",
      "/Users/Kainan/anaconda3/lib/python3.6/site-packages/sklearn/ensemble/forest.py:245: FutureWarning: The default value of n_estimators will change from 10 in version 0.20 to 100 in 0.22.\n",
      "  \"10 in version 0.20 to 100 in 0.22.\", FutureWarning)\n"
     ]
    },
    {
     "data": {
      "text/plain": [
       "GridSearchCV(cv='warn', error_score='raise-deprecating',\n",
       "             estimator=RandomForestClassifier(bootstrap=True, class_weight=None,\n",
       "                                              criterion='gini', max_depth=None,\n",
       "                                              max_features='auto',\n",
       "                                              max_leaf_nodes=None,\n",
       "                                              min_impurity_decrease=0.0,\n",
       "                                              min_impurity_split=None,\n",
       "                                              min_samples_leaf=1,\n",
       "                                              min_samples_split=2,\n",
       "                                              min_weight_fraction_leaf=0.0,\n",
       "                                              n_estimators='warn', n_jobs=None,\n",
       "                                              oob_score=False,\n",
       "                                              random_state=None, verbose=0,\n",
       "                                              warm_start=False),\n",
       "             iid='warn', n_jobs=None,\n",
       "             param_grid={'max_features': ['auto', 'sqrt', 'log2']},\n",
       "             pre_dispatch='2*n_jobs', refit=True, return_train_score=False,\n",
       "             scoring=None, verbose=0)"
      ]
     },
     "execution_count": 59,
     "metadata": {},
     "output_type": "execute_result"
    }
   ],
   "source": [
    "# Import GridSearchCV\n",
    "from sklearn.model_selection import GridSearchCV\n",
    "\n",
    "# Create the hyperparameter grid\n",
    "param_grid = {'max_features': ['auto', 'sqrt', 'log2']}\n",
    "\n",
    "# Call GridSearchCV\n",
    "grid_search = GridSearchCV(RandomForestClassifier(), param_grid)\n",
    "\n",
    "# Fit the model\n",
    "grid_search.fit(X, y)"
   ]
  },
  {
   "cell_type": "code",
   "execution_count": 60,
   "metadata": {},
   "outputs": [
    {
     "name": "stdout",
     "output_type": "stream",
     "text": [
      "{'max_features': 'sqrt'}\n"
     ]
    }
   ],
   "source": [
    "# Print the optimal parameters\n",
    "print(grid_search.best_params_)\n",
    "#n_estimators hyperparameter controls the number of trees to use in the forest\n",
    "#max_features hyperparameter controls the number features the random forest should consider when looking for the best split at decision tree."
   ]
  },
  {
   "cell_type": "code",
   "execution_count": 61,
   "metadata": {},
   "outputs": [
    {
     "name": "stderr",
     "output_type": "stream",
     "text": [
      "/Users/Kainan/anaconda3/lib/python3.6/site-packages/sklearn/model_selection/_split.py:1978: FutureWarning: The default value of cv will change from 3 to 5 in version 0.22. Specify it explicitly to silence this warning.\n",
      "  warnings.warn(CV_WARNING, FutureWarning)\n"
     ]
    },
    {
     "data": {
      "text/plain": [
       "{'bootstrap': False,\n",
       " 'criterion': 'gini',\n",
       " 'max_depth': None,\n",
       " 'max_features': 10}"
      ]
     },
     "execution_count": 61,
     "metadata": {},
     "output_type": "execute_result"
    }
   ],
   "source": [
    "# Import GridSearchCV\n",
    "from sklearn.model_selection import GridSearchCV\n",
    "\n",
    "# Create the hyperparameter grid\n",
    "param_grid = {\"max_depth\": [3, None],\n",
    "              \"max_features\": [1, 3, 10],\n",
    "              \"bootstrap\": [True, False],\n",
    "              \"criterion\": [\"gini\", \"entropy\"]}\n",
    "\n",
    "# Call GridSearchCV\n",
    "grid_search = GridSearchCV(clf, param_grid)\n",
    "\n",
    "# Fit the model\n",
    "grid_search.fit(X, y)\n",
    "\n",
    "grid_search.best_params_"
   ]
  },
  {
   "cell_type": "code",
   "execution_count": 72,
   "metadata": {},
   "outputs": [],
   "source": [
    "# Import RandomizedSearchCV\n",
    "from sklearn.model_selection import RandomizedSearchCV\n",
    "#import random\n",
    "import numpy as np\n",
    "# Create the hyperparameter distribution\n",
    "param_dist = {\"max_depth\": [3, None],\n",
    "              \"max_features\": np.arange(1,11, 1),\n",
    "              \"bootstrap\": [True, False],\n",
    "              \"criterion\": [\"gini\", \"entropy\"]\n",
    "             }"
   ]
  },
  {
   "cell_type": "code",
   "execution_count": 73,
   "metadata": {},
   "outputs": [],
   "source": [
    "# Call RandomizedSearchCV\n",
    "random_search = RandomizedSearchCV(clf, param_dist) # clf = RandomForestClassifier()"
   ]
  },
  {
   "cell_type": "code",
   "execution_count": 74,
   "metadata": {},
   "outputs": [
    {
     "name": "stderr",
     "output_type": "stream",
     "text": [
      "/Users/Kainan/anaconda3/lib/python3.6/site-packages/sklearn/model_selection/_split.py:1978: FutureWarning: The default value of cv will change from 3 to 5 in version 0.22. Specify it explicitly to silence this warning.\n",
      "  warnings.warn(CV_WARNING, FutureWarning)\n"
     ]
    },
    {
     "data": {
      "text/plain": [
       "RandomizedSearchCV(cv='warn', error_score='raise-deprecating',\n",
       "                   estimator=RandomForestClassifier(bootstrap=True,\n",
       "                                                    class_weight=None,\n",
       "                                                    criterion='gini',\n",
       "                                                    max_depth=None,\n",
       "                                                    max_features='auto',\n",
       "                                                    max_leaf_nodes=None,\n",
       "                                                    min_impurity_decrease=0.0,\n",
       "                                                    min_impurity_split=None,\n",
       "                                                    min_samples_leaf=1,\n",
       "                                                    min_samples_split=2,\n",
       "                                                    min_weight_fraction_leaf=0.0,\n",
       "                                                    n_estimators=10,\n",
       "                                                    n_jobs=None,\n",
       "                                                    oob_score=False,\n",
       "                                                    random_state=None,\n",
       "                                                    verbose=0,\n",
       "                                                    warm_start=False),\n",
       "                   iid='warn', n_iter=10, n_jobs=None,\n",
       "                   param_distributions={'bootstrap': [True, False],\n",
       "                                        'criterion': ['gini', 'entropy'],\n",
       "                                        'max_depth': [3, None],\n",
       "                                        'max_features': array([ 1,  2,  3,  4,  5,  6,  7,  8,  9, 10])},\n",
       "                   pre_dispatch='2*n_jobs', random_state=None, refit=True,\n",
       "                   return_train_score=False, scoring=None, verbose=0)"
      ]
     },
     "execution_count": 74,
     "metadata": {},
     "output_type": "execute_result"
    }
   ],
   "source": [
    "#Fit the model\n",
    "random_search.fit(X, y)"
   ]
  },
  {
   "cell_type": "code",
   "execution_count": 75,
   "metadata": {},
   "outputs": [
    {
     "name": "stdout",
     "output_type": "stream",
     "text": [
      "{'max_features': 6, 'max_depth': None, 'criterion': 'gini', 'bootstrap': False}\n"
     ]
    }
   ],
   "source": [
    "# Print best parameters\n",
    "print(random_search.best_params_)"
   ]
  },
  {
   "cell_type": "code",
   "execution_count": 76,
   "metadata": {},
   "outputs": [
    {
     "data": {
      "image/png": "[encoded data removed]",
      "text/plain": [
       "<Figure size 1440x720 with 1 Axes>"
      ]
     },
     "metadata": {
      "needs_background": "light"
     },
     "output_type": "display_data"
    }
   ],
   "source": [
    "# Calculate feature importances\n",
    "importances = clf.feature_importances_\n",
    "\n",
    "# Create plot\n",
    "plt.figure(figsize=(20,10))\n",
    "plt.barh(range(X.shape[1]), importances)\n",
    "plt.show()"
   ]
  },
  {
   "cell_type": "code",
   "execution_count": 77,
   "metadata": {},
   "outputs": [
    {
     "data": {
      "text/plain": [
       "<Figure size 432x288 with 0 Axes>"
      ]
     },
     "metadata": {},
     "output_type": "display_data"
    },
    {
     "data": {
      "image/png": "[encoded data removed]",
      "text/plain": [
       "<Figure size 1440x1152 with 1 Axes>"
      ]
     },
     "metadata": {
      "needs_background": "light"
     },
     "output_type": "display_data"
    }
   ],
   "source": [
    "\n",
    "# Sort importances\n",
    "sorted_index = np.argsort(importances)\n",
    "\n",
    "# Create labels\n",
    "labels = X.columns[sorted_index]\n",
    "\n",
    "# Clear current plot\n",
    "plt.clf()\n",
    "plt.figure(figsize=(20,16))\n",
    "# Create plot\n",
    "plt.barh(range(X.shape[1]), importances[sorted_index], tick_label=labels)\n",
    "plt.show()"
   ]
  },
  {
   "cell_type": "code",
   "execution_count": 78,
   "metadata": {},
   "outputs": [
    {
     "name": "stdout",
     "output_type": "stream",
     "text": [
      "0.9851666666666666\n"
     ]
    },
    {
     "name": "stderr",
     "output_type": "stream",
     "text": [
      "/Users/Kainan/anaconda3/lib/python3.6/site-packages/sklearn/ensemble/forest.py:245: FutureWarning: The default value of n_estimators will change from 10 in version 0.20 to 100 in 0.22.\n",
      "  \"10 in version 0.20 to 100 in 0.22.\", FutureWarning)\n"
     ]
    }
   ],
   "source": [
    "#Will this improve the churn model? \n",
    "# Create training and testing sets\n",
    "X_train, X_test, y_train, y_test = train_test_split(X, y, test_size=0.3)\n",
    "\n",
    "# Instantiate the classifier\n",
    "clf = RandomForestClassifier()\n",
    "\n",
    "# Fit to the data\n",
    "clf.fit(X_train, y_train)\n",
    "\n",
    "# Print the accuracy\n",
    "print(clf.score(X_test, y_test))"
   ]
  },
  {
   "cell_type": "code",
   "execution_count": 79,
   "metadata": {},
   "outputs": [
    {
     "name": "stdout",
     "output_type": "stream",
     "text": [
      "0.4371584699453553\n"
     ]
    },
    {
     "name": "stderr",
     "output_type": "stream",
     "text": [
      "/Users/Kainan/anaconda3/lib/python3.6/site-packages/sklearn/ensemble/forest.py:245: FutureWarning: The default value of n_estimators will change from 10 in version 0.20 to 100 in 0.22.\n",
      "  \"10 in version 0.20 to 100 in 0.22.\", FutureWarning)\n"
     ]
    }
   ],
   "source": [
    "#other metrics\n",
    "# Import f1_score\n",
    "from sklearn.metrics import f1_score\n",
    "\n",
    "# Instantiate the classifier\n",
    "clf = RandomForestClassifier()\n",
    "\n",
    "# Fit to the data\n",
    "clf.fit(X_train, y_train)\n",
    "\n",
    "# Predict the labels of the test set\n",
    "y_pred = clf.predict(X_test)\n",
    "\n",
    "# Print the F1 score\n",
    "print(f1_score(y_test, y_pred))\n"
   ]
  },
  {
   "cell_type": "code",
   "execution_count": null,
   "metadata": {},
   "outputs": [],
   "source": []
  }
 ],
 "metadata": {
  "kernelspec": {
   "display_name": "Python 3",
   "language": "python",
   "name": "python3"
  },
  "language_info": {
   "codemirror_mode": {
    "name": "ipython",
    "version": 3
   },
   "file_extension": ".py",
   "mimetype": "text/x-python",
   "name": "python",
   "nbconvert_exporter": "python",
   "pygments_lexer": "ipython3",
   "version": "3.6.9"
  }
 },
 "nbformat": 4,
 "nbformat_minor": 2
}
