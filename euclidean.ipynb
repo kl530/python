{
  "nbformat": 4,
  "nbformat_minor": 0,
  "metadata": {
    "colab": {
      "name": "ex3.ipynb",
      "provenance": [],
      "collapsed_sections": [],
      "authorship_tag": "ABX9TyP2qvE9q7TybzVrNyUIA+xN"
    },
    "kernelspec": {
      "name": "python3",
      "display_name": "Python 3"
    }
  },
  "cells": [
    {
      "cell_type": "code",
      "metadata": {
        "id": "HNoi16arrIC9",
        "colab_type": "code",
        "outputId": "6db9bb84-3d60-45fc-942f-0d7336e3d2c8",
        "colab": {
          "resources": {
            "http://localhost:8080/nbextensions/google.colab/files.js": {
              "data": "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",
              "ok": true,
              "headers": [
                [
                  "content-type",
                  "application/javascript"
                ]
              ],
              "status": 200,
              "status_text": ""
            }
          },
          "base_uri": "https://localhost:8080/",
          "height": 71
        }
      },
      "source": [
        "from google.colab import files\n",
        "uploaded = files.upload()"
      ],
      "execution_count": 0,
      "outputs": [
        {
          "output_type": "display_data",
          "data": {
            "text/html": [
              "\n",
              "     <input type=\"file\" id=\"files-de42d1c9-5872-4673-b785-5e8938ac64e5\" name=\"files[]\" multiple disabled />\n",
              "     <output id=\"result-de42d1c9-5872-4673-b785-5e8938ac64e5\">\n",
              "      Upload widget is only available when the cell has been executed in the\n",
              "      current browser session. Please rerun this cell to enable.\n",
              "      </output>\n",
              "      <script src=\"/nbextensions/google.colab/files.js\"></script> "
            ],
            "text/plain": [
              "<IPython.core.display.HTML object>"
            ]
          },
          "metadata": {
            "tags": []
          }
        },
        {
          "output_type": "stream",
          "text": [
            "Saving MSBA_2019_2020_Lesson2_preclass exercise dataset.csv to MSBA_2019_2020_Lesson2_preclass exercise dataset.csv\n"
          ],
          "name": "stdout"
        }
      ]
    },
    {
      "cell_type": "code",
      "metadata": {
        "id": "m6qmJvrNr74L",
        "colab_type": "code",
        "colab": {}
      },
      "source": [
        "import pandas as pd\n",
        "preclass=pd.read_csv('MSBA_2019_2020_Lesson2_preclass exercise dataset.csv')"
      ],
      "execution_count": 0,
      "outputs": []
    },
    {
      "cell_type": "code",
      "metadata": {
        "id": "9KDRIHYVsPIe",
        "colab_type": "code",
        "outputId": "acf6d914-bc6a-4965-c8f6-44a502370051",
        "colab": {
          "base_uri": "https://localhost:8080/",
          "height": 204
        }
      },
      "source": [
        "preclass.head()"
      ],
      "execution_count": 0,
      "outputs": [
        {
          "output_type": "execute_result",
          "data": {
            "text/html": [
              "<div>\n",
              "<style scoped>\n",
              "    .dataframe tbody tr th:only-of-type {\n",
              "        vertical-align: middle;\n",
              "    }\n",
              "\n",
              "    .dataframe tbody tr th {\n",
              "        vertical-align: top;\n",
              "    }\n",
              "\n",
              "    .dataframe thead th {\n",
              "        text-align: right;\n",
              "    }\n",
              "</style>\n",
              "<table border=\"1\" class=\"dataframe\">\n",
              "  <thead>\n",
              "    <tr style=\"text-align: right;\">\n",
              "      <th></th>\n",
              "      <th>SALES_DATE</th>\n",
              "      <th>SITE_NUM</th>\n",
              "      <th>PROFIT</th>\n",
              "      <th>SALES</th>\n",
              "    </tr>\n",
              "  </thead>\n",
              "  <tbody>\n",
              "    <tr>\n",
              "      <th>0</th>\n",
              "      <td>2017-01-22</td>\n",
              "      <td>Store1</td>\n",
              "      <td>166.64</td>\n",
              "      <td>447.13</td>\n",
              "    </tr>\n",
              "    <tr>\n",
              "      <th>1</th>\n",
              "      <td>2017-01-22</td>\n",
              "      <td>Store2</td>\n",
              "      <td>183.27</td>\n",
              "      <td>513.18</td>\n",
              "    </tr>\n",
              "    <tr>\n",
              "      <th>2</th>\n",
              "      <td>2017-01-22</td>\n",
              "      <td>Store3</td>\n",
              "      <td>130.66</td>\n",
              "      <td>371.05</td>\n",
              "    </tr>\n",
              "    <tr>\n",
              "      <th>3</th>\n",
              "      <td>2017-01-22</td>\n",
              "      <td>Store4</td>\n",
              "      <td>132.33</td>\n",
              "      <td>374.11</td>\n",
              "    </tr>\n",
              "    <tr>\n",
              "      <th>4</th>\n",
              "      <td>2017-01-23</td>\n",
              "      <td>Store1</td>\n",
              "      <td>164.09</td>\n",
              "      <td>466.75</td>\n",
              "    </tr>\n",
              "  </tbody>\n",
              "</table>\n",
              "</div>"
            ],
            "text/plain": [
              "   SALES_DATE SITE_NUM  PROFIT   SALES\n",
              "0  2017-01-22   Store1  166.64  447.13\n",
              "1  2017-01-22   Store2  183.27  513.18\n",
              "2  2017-01-22   Store3  130.66  371.05\n",
              "3  2017-01-22   Store4  132.33  374.11\n",
              "4  2017-01-23   Store1  164.09  466.75"
            ]
          },
          "metadata": {
            "tags": []
          },
          "execution_count": 84
        }
      ]
    },
    {
      "cell_type": "code",
      "metadata": {
        "id": "Dud3pHoTwPhs",
        "colab_type": "code",
        "outputId": "24499fd4-414b-4265-bb85-8153d5fcef34",
        "colab": {
          "base_uri": "https://localhost:8080/",
          "height": 170
        }
      },
      "source": [
        "preclass.info() #get unique data in dataset. seems like no NAs."
      ],
      "execution_count": 0,
      "outputs": [
        {
          "output_type": "stream",
          "text": [
            "<class 'pandas.core.frame.DataFrame'>\n",
            "RangeIndex: 1336 entries, 0 to 1335\n",
            "Data columns (total 4 columns):\n",
            "SALES_DATE    1336 non-null object\n",
            "SITE_NUM      1336 non-null object\n",
            "PROFIT        1336 non-null float64\n",
            "SALES         1336 non-null float64\n",
            "dtypes: float64(2), object(2)\n",
            "memory usage: 41.9+ KB\n"
          ],
          "name": "stdout"
        }
      ]
    },
    {
      "cell_type": "code",
      "metadata": {
        "id": "LEwew7J99PAX",
        "colab_type": "code",
        "colab": {}
      },
      "source": [
        "# Computes avg daily sales per store\n",
        "avg_store_sales = preclass[['SITE_NUM', 'SALES']].groupby('SITE_NUM', as_index=False).mean()"
      ],
      "execution_count": 0,
      "outputs": []
    },
    {
      "cell_type": "code",
      "metadata": {
        "id": "U9eV5D8LwgWO",
        "colab_type": "code",
        "colab": {}
      },
      "source": [
        "# Renames sales column\n",
        "avg_store_sales.rename(columns={'SALES': 'AVG_SALES'}, inplace=True)"
      ],
      "execution_count": 0,
      "outputs": []
    },
    {
      "cell_type": "code",
      "metadata": {
        "id": "wOgXIPcYwwhn",
        "colab_type": "code",
        "outputId": "d1f9c230-992a-425e-b0da-523ac8501d4b",
        "colab": {
          "base_uri": "https://localhost:8080/",
          "height": 173
        }
      },
      "source": [
        "avg_store_sales.head()"
      ],
      "execution_count": 0,
      "outputs": [
        {
          "output_type": "execute_result",
          "data": {
            "text/html": [
              "<div>\n",
              "<style scoped>\n",
              "    .dataframe tbody tr th:only-of-type {\n",
              "        vertical-align: middle;\n",
              "    }\n",
              "\n",
              "    .dataframe tbody tr th {\n",
              "        vertical-align: top;\n",
              "    }\n",
              "\n",
              "    .dataframe thead th {\n",
              "        text-align: right;\n",
              "    }\n",
              "</style>\n",
              "<table border=\"1\" class=\"dataframe\">\n",
              "  <thead>\n",
              "    <tr style=\"text-align: right;\">\n",
              "      <th></th>\n",
              "      <th>SITE_NUM</th>\n",
              "      <th>AVG_SALES</th>\n",
              "    </tr>\n",
              "  </thead>\n",
              "  <tbody>\n",
              "    <tr>\n",
              "      <th>0</th>\n",
              "      <td>Store1</td>\n",
              "      <td>1221.450958</td>\n",
              "    </tr>\n",
              "    <tr>\n",
              "      <th>1</th>\n",
              "      <td>Store2</td>\n",
              "      <td>1453.480299</td>\n",
              "    </tr>\n",
              "    <tr>\n",
              "      <th>2</th>\n",
              "      <td>Store3</td>\n",
              "      <td>1187.577725</td>\n",
              "    </tr>\n",
              "    <tr>\n",
              "      <th>3</th>\n",
              "      <td>Store4</td>\n",
              "      <td>998.643413</td>\n",
              "    </tr>\n",
              "  </tbody>\n",
              "</table>\n",
              "</div>"
            ],
            "text/plain": [
              "  SITE_NUM    AVG_SALES\n",
              "0   Store1  1221.450958\n",
              "1   Store2  1453.480299\n",
              "2   Store3  1187.577725\n",
              "3   Store4   998.643413"
            ]
          },
          "metadata": {
            "tags": []
          },
          "execution_count": 88
        }
      ]
    },
    {
      "cell_type": "code",
      "metadata": {
        "id": "bh__OMb3u_dR",
        "colab_type": "code",
        "colab": {}
      },
      "source": [
        "preclass = pd.merge(preclass, avg_store_sales, on='SITE_NUM')"
      ],
      "execution_count": 0,
      "outputs": []
    },
    {
      "cell_type": "code",
      "metadata": {
        "id": "PkNnRfqD135n",
        "colab_type": "code",
        "outputId": "7d70d2e1-48f7-48cd-efe8-77ba3904eaae",
        "colab": {
          "base_uri": "https://localhost:8080/",
          "height": 204
        }
      },
      "source": [
        "preclass.head()"
      ],
      "execution_count": 0,
      "outputs": [
        {
          "output_type": "execute_result",
          "data": {
            "text/html": [
              "<div>\n",
              "<style scoped>\n",
              "    .dataframe tbody tr th:only-of-type {\n",
              "        vertical-align: middle;\n",
              "    }\n",
              "\n",
              "    .dataframe tbody tr th {\n",
              "        vertical-align: top;\n",
              "    }\n",
              "\n",
              "    .dataframe thead th {\n",
              "        text-align: right;\n",
              "    }\n",
              "</style>\n",
              "<table border=\"1\" class=\"dataframe\">\n",
              "  <thead>\n",
              "    <tr style=\"text-align: right;\">\n",
              "      <th></th>\n",
              "      <th>SALES_DATE</th>\n",
              "      <th>SITE_NUM</th>\n",
              "      <th>PROFIT</th>\n",
              "      <th>SALES</th>\n",
              "      <th>AVG_SALES</th>\n",
              "    </tr>\n",
              "  </thead>\n",
              "  <tbody>\n",
              "    <tr>\n",
              "      <th>0</th>\n",
              "      <td>2017-01-22</td>\n",
              "      <td>Store1</td>\n",
              "      <td>166.64</td>\n",
              "      <td>447.13</td>\n",
              "      <td>1221.450958</td>\n",
              "    </tr>\n",
              "    <tr>\n",
              "      <th>1</th>\n",
              "      <td>2017-01-23</td>\n",
              "      <td>Store1</td>\n",
              "      <td>164.09</td>\n",
              "      <td>466.75</td>\n",
              "      <td>1221.450958</td>\n",
              "    </tr>\n",
              "    <tr>\n",
              "      <th>2</th>\n",
              "      <td>2017-01-24</td>\n",
              "      <td>Store1</td>\n",
              "      <td>118.98</td>\n",
              "      <td>340.70</td>\n",
              "      <td>1221.450958</td>\n",
              "    </tr>\n",
              "    <tr>\n",
              "      <th>3</th>\n",
              "      <td>2017-01-25</td>\n",
              "      <td>Store1</td>\n",
              "      <td>13.36</td>\n",
              "      <td>39.47</td>\n",
              "      <td>1221.450958</td>\n",
              "    </tr>\n",
              "    <tr>\n",
              "      <th>4</th>\n",
              "      <td>2017-01-26</td>\n",
              "      <td>Store1</td>\n",
              "      <td>154.30</td>\n",
              "      <td>470.39</td>\n",
              "      <td>1221.450958</td>\n",
              "    </tr>\n",
              "  </tbody>\n",
              "</table>\n",
              "</div>"
            ],
            "text/plain": [
              "   SALES_DATE SITE_NUM  PROFIT   SALES    AVG_SALES\n",
              "0  2017-01-22   Store1  166.64  447.13  1221.450958\n",
              "1  2017-01-23   Store1  164.09  466.75  1221.450958\n",
              "2  2017-01-24   Store1  118.98  340.70  1221.450958\n",
              "3  2017-01-25   Store1   13.36   39.47  1221.450958\n",
              "4  2017-01-26   Store1  154.30  470.39  1221.450958"
            ]
          },
          "metadata": {
            "tags": []
          },
          "execution_count": 90
        }
      ]
    },
    {
      "cell_type": "code",
      "metadata": {
        "id": "jjBZ7a4c6wPW",
        "colab_type": "code",
        "colab": {}
      },
      "source": [
        "# Compute normalized margine\n",
        "preclass['MARGIN'] = preclass['PROFIT'].div(preclass['AVG_SALES'])"
      ],
      "execution_count": 0,
      "outputs": []
    },
    {
      "cell_type": "code",
      "metadata": {
        "id": "HoPYVtw91T2F",
        "colab_type": "code",
        "outputId": "6f10b758-f2b7-4958-e15b-2031de48d8ad",
        "colab": {
          "base_uri": "https://localhost:8080/",
          "height": 204
        }
      },
      "source": [
        "preclass.head()"
      ],
      "execution_count": 0,
      "outputs": [
        {
          "output_type": "execute_result",
          "data": {
            "text/html": [
              "<div>\n",
              "<style scoped>\n",
              "    .dataframe tbody tr th:only-of-type {\n",
              "        vertical-align: middle;\n",
              "    }\n",
              "\n",
              "    .dataframe tbody tr th {\n",
              "        vertical-align: top;\n",
              "    }\n",
              "\n",
              "    .dataframe thead th {\n",
              "        text-align: right;\n",
              "    }\n",
              "</style>\n",
              "<table border=\"1\" class=\"dataframe\">\n",
              "  <thead>\n",
              "    <tr style=\"text-align: right;\">\n",
              "      <th></th>\n",
              "      <th>SALES_DATE</th>\n",
              "      <th>SITE_NUM</th>\n",
              "      <th>PROFIT</th>\n",
              "      <th>SALES</th>\n",
              "      <th>AVG_SALES</th>\n",
              "      <th>MARGIN</th>\n",
              "    </tr>\n",
              "  </thead>\n",
              "  <tbody>\n",
              "    <tr>\n",
              "      <th>0</th>\n",
              "      <td>2017-01-22</td>\n",
              "      <td>Store1</td>\n",
              "      <td>166.64</td>\n",
              "      <td>447.13</td>\n",
              "      <td>1221.450958</td>\n",
              "      <td>0.136428</td>\n",
              "    </tr>\n",
              "    <tr>\n",
              "      <th>1</th>\n",
              "      <td>2017-01-23</td>\n",
              "      <td>Store1</td>\n",
              "      <td>164.09</td>\n",
              "      <td>466.75</td>\n",
              "      <td>1221.450958</td>\n",
              "      <td>0.134340</td>\n",
              "    </tr>\n",
              "    <tr>\n",
              "      <th>2</th>\n",
              "      <td>2017-01-24</td>\n",
              "      <td>Store1</td>\n",
              "      <td>118.98</td>\n",
              "      <td>340.70</td>\n",
              "      <td>1221.450958</td>\n",
              "      <td>0.097409</td>\n",
              "    </tr>\n",
              "    <tr>\n",
              "      <th>3</th>\n",
              "      <td>2017-01-25</td>\n",
              "      <td>Store1</td>\n",
              "      <td>13.36</td>\n",
              "      <td>39.47</td>\n",
              "      <td>1221.450958</td>\n",
              "      <td>0.010938</td>\n",
              "    </tr>\n",
              "    <tr>\n",
              "      <th>4</th>\n",
              "      <td>2017-01-26</td>\n",
              "      <td>Store1</td>\n",
              "      <td>154.30</td>\n",
              "      <td>470.39</td>\n",
              "      <td>1221.450958</td>\n",
              "      <td>0.126325</td>\n",
              "    </tr>\n",
              "  </tbody>\n",
              "</table>\n",
              "</div>"
            ],
            "text/plain": [
              "   SALES_DATE SITE_NUM  PROFIT   SALES    AVG_SALES    MARGIN\n",
              "0  2017-01-22   Store1  166.64  447.13  1221.450958  0.136428\n",
              "1  2017-01-23   Store1  164.09  466.75  1221.450958  0.134340\n",
              "2  2017-01-24   Store1  118.98  340.70  1221.450958  0.097409\n",
              "3  2017-01-25   Store1   13.36   39.47  1221.450958  0.010938\n",
              "4  2017-01-26   Store1  154.30  470.39  1221.450958  0.126325"
            ]
          },
          "metadata": {
            "tags": []
          },
          "execution_count": 92
        }
      ]
    },
    {
      "cell_type": "markdown",
      "metadata": {
        "id": "LEjpSu9k-ODY",
        "colab_type": "text"
      },
      "source": [
        "Cluster on Euclid Distance"
      ]
    },
    {
      "cell_type": "code",
      "metadata": {
        "id": "YBjrwuiT-XT3",
        "colab_type": "code",
        "outputId": "ac036026-b0ba-4f75-f4ef-778edde62087",
        "colab": {
          "base_uri": "https://localhost:8080/",
          "height": 270
        }
      },
      "source": [
        "# Pivot dataframes to represent time series\n",
        "preclass_pivot_euclid = preclass.pivot(index='SITE_NUM', columns='SALES_DATE', values='MARGIN')\n",
        "preclass_pivot_euclid.head()"
      ],
      "execution_count": 0,
      "outputs": [
        {
          "output_type": "execute_result",
          "data": {
            "text/html": [
              "<div>\n",
              "<style scoped>\n",
              "    .dataframe tbody tr th:only-of-type {\n",
              "        vertical-align: middle;\n",
              "    }\n",
              "\n",
              "    .dataframe tbody tr th {\n",
              "        vertical-align: top;\n",
              "    }\n",
              "\n",
              "    .dataframe thead th {\n",
              "        text-align: right;\n",
              "    }\n",
              "</style>\n",
              "<table border=\"1\" class=\"dataframe\">\n",
              "  <thead>\n",
              "    <tr style=\"text-align: right;\">\n",
              "      <th>SALES_DATE</th>\n",
              "      <th>2017-01-22</th>\n",
              "      <th>2017-01-23</th>\n",
              "      <th>2017-01-24</th>\n",
              "      <th>2017-01-25</th>\n",
              "      <th>2017-01-26</th>\n",
              "      <th>2017-01-27</th>\n",
              "      <th>2017-01-28</th>\n",
              "      <th>2017-01-29</th>\n",
              "      <th>2017-01-30</th>\n",
              "      <th>2017-01-31</th>\n",
              "      <th>2017-02-01</th>\n",
              "      <th>2017-02-02</th>\n",
              "      <th>2017-02-03</th>\n",
              "      <th>2017-02-04</th>\n",
              "      <th>2017-02-05</th>\n",
              "      <th>2017-02-06</th>\n",
              "      <th>2017-02-07</th>\n",
              "      <th>2017-02-08</th>\n",
              "      <th>2017-02-09</th>\n",
              "      <th>2017-02-10</th>\n",
              "      <th>2017-02-11</th>\n",
              "      <th>2017-02-12</th>\n",
              "      <th>2017-02-13</th>\n",
              "      <th>2017-02-14</th>\n",
              "      <th>2017-02-15</th>\n",
              "      <th>2017-02-16</th>\n",
              "      <th>2017-02-17</th>\n",
              "      <th>2017-02-18</th>\n",
              "      <th>2017-02-19</th>\n",
              "      <th>2017-02-20</th>\n",
              "      <th>2017-02-21</th>\n",
              "      <th>2017-02-22</th>\n",
              "      <th>2017-02-23</th>\n",
              "      <th>2017-02-24</th>\n",
              "      <th>2017-02-25</th>\n",
              "      <th>2017-02-26</th>\n",
              "      <th>2017-02-27</th>\n",
              "      <th>2017-02-28</th>\n",
              "      <th>2017-03-01</th>\n",
              "      <th>2017-03-02</th>\n",
              "      <th>...</th>\n",
              "      <th>2017-11-20</th>\n",
              "      <th>2017-11-21</th>\n",
              "      <th>2017-11-22</th>\n",
              "      <th>2017-11-23</th>\n",
              "      <th>2017-11-24</th>\n",
              "      <th>2017-11-25</th>\n",
              "      <th>2017-11-26</th>\n",
              "      <th>2017-11-27</th>\n",
              "      <th>2017-11-28</th>\n",
              "      <th>2017-11-29</th>\n",
              "      <th>2017-11-30</th>\n",
              "      <th>2017-12-01</th>\n",
              "      <th>2017-12-02</th>\n",
              "      <th>2017-12-03</th>\n",
              "      <th>2017-12-04</th>\n",
              "      <th>2017-12-05</th>\n",
              "      <th>2017-12-06</th>\n",
              "      <th>2017-12-07</th>\n",
              "      <th>2017-12-08</th>\n",
              "      <th>2017-12-09</th>\n",
              "      <th>2017-12-10</th>\n",
              "      <th>2017-12-11</th>\n",
              "      <th>2017-12-12</th>\n",
              "      <th>2017-12-13</th>\n",
              "      <th>2017-12-14</th>\n",
              "      <th>2017-12-15</th>\n",
              "      <th>2017-12-16</th>\n",
              "      <th>2017-12-17</th>\n",
              "      <th>2017-12-18</th>\n",
              "      <th>2017-12-19</th>\n",
              "      <th>2017-12-20</th>\n",
              "      <th>2017-12-21</th>\n",
              "      <th>2017-12-22</th>\n",
              "      <th>2017-12-23</th>\n",
              "      <th>2017-12-24</th>\n",
              "      <th>2017-12-27</th>\n",
              "      <th>2017-12-28</th>\n",
              "      <th>2017-12-29</th>\n",
              "      <th>2017-12-30</th>\n",
              "      <th>2017-12-31</th>\n",
              "    </tr>\n",
              "    <tr>\n",
              "      <th>SITE_NUM</th>\n",
              "      <th></th>\n",
              "      <th></th>\n",
              "      <th></th>\n",
              "      <th></th>\n",
              "      <th></th>\n",
              "      <th></th>\n",
              "      <th></th>\n",
              "      <th></th>\n",
              "      <th></th>\n",
              "      <th></th>\n",
              "      <th></th>\n",
              "      <th></th>\n",
              "      <th></th>\n",
              "      <th></th>\n",
              "      <th></th>\n",
              "      <th></th>\n",
              "      <th></th>\n",
              "      <th></th>\n",
              "      <th></th>\n",
              "      <th></th>\n",
              "      <th></th>\n",
              "      <th></th>\n",
              "      <th></th>\n",
              "      <th></th>\n",
              "      <th></th>\n",
              "      <th></th>\n",
              "      <th></th>\n",
              "      <th></th>\n",
              "      <th></th>\n",
              "      <th></th>\n",
              "      <th></th>\n",
              "      <th></th>\n",
              "      <th></th>\n",
              "      <th></th>\n",
              "      <th></th>\n",
              "      <th></th>\n",
              "      <th></th>\n",
              "      <th></th>\n",
              "      <th></th>\n",
              "      <th></th>\n",
              "      <th></th>\n",
              "      <th></th>\n",
              "      <th></th>\n",
              "      <th></th>\n",
              "      <th></th>\n",
              "      <th></th>\n",
              "      <th></th>\n",
              "      <th></th>\n",
              "      <th></th>\n",
              "      <th></th>\n",
              "      <th></th>\n",
              "      <th></th>\n",
              "      <th></th>\n",
              "      <th></th>\n",
              "      <th></th>\n",
              "      <th></th>\n",
              "      <th></th>\n",
              "      <th></th>\n",
              "      <th></th>\n",
              "      <th></th>\n",
              "      <th></th>\n",
              "      <th></th>\n",
              "      <th></th>\n",
              "      <th></th>\n",
              "      <th></th>\n",
              "      <th></th>\n",
              "      <th></th>\n",
              "      <th></th>\n",
              "      <th></th>\n",
              "      <th></th>\n",
              "      <th></th>\n",
              "      <th></th>\n",
              "      <th></th>\n",
              "      <th></th>\n",
              "      <th></th>\n",
              "      <th></th>\n",
              "      <th></th>\n",
              "      <th></th>\n",
              "      <th></th>\n",
              "      <th></th>\n",
              "      <th></th>\n",
              "    </tr>\n",
              "  </thead>\n",
              "  <tbody>\n",
              "    <tr>\n",
              "      <th>Store1</th>\n",
              "      <td>0.136428</td>\n",
              "      <td>0.134340</td>\n",
              "      <td>0.097409</td>\n",
              "      <td>0.010938</td>\n",
              "      <td>0.126325</td>\n",
              "      <td>0.165451</td>\n",
              "      <td>0.205264</td>\n",
              "      <td>0.164313</td>\n",
              "      <td>0.138614</td>\n",
              "      <td>0.102468</td>\n",
              "      <td>0.109886</td>\n",
              "      <td>0.123149</td>\n",
              "      <td>0.172745</td>\n",
              "      <td>0.187859</td>\n",
              "      <td>0.135994</td>\n",
              "      <td>0.120324</td>\n",
              "      <td>0.149552</td>\n",
              "      <td>0.079528</td>\n",
              "      <td>0.178869</td>\n",
              "      <td>0.092521</td>\n",
              "      <td>0.251783</td>\n",
              "      <td>0.239977</td>\n",
              "      <td>0.018478</td>\n",
              "      <td>0.100405</td>\n",
              "      <td>0.206034</td>\n",
              "      <td>0.019035</td>\n",
              "      <td>0.154431</td>\n",
              "      <td>0.217307</td>\n",
              "      <td>0.145188</td>\n",
              "      <td>0.111441</td>\n",
              "      <td>0.087822</td>\n",
              "      <td>0.113734</td>\n",
              "      <td>0.129109</td>\n",
              "      <td>0.168726</td>\n",
              "      <td>0.058365</td>\n",
              "      <td>0.220328</td>\n",
              "      <td>0.129289</td>\n",
              "      <td>0.120504</td>\n",
              "      <td>0.108641</td>\n",
              "      <td>0.119063</td>\n",
              "      <td>...</td>\n",
              "      <td>-0.113562</td>\n",
              "      <td>-0.244128</td>\n",
              "      <td>-0.132940</td>\n",
              "      <td>0.434295</td>\n",
              "      <td>0.551835</td>\n",
              "      <td>0.621679</td>\n",
              "      <td>0.602161</td>\n",
              "      <td>0.389741</td>\n",
              "      <td>0.471570</td>\n",
              "      <td>0.477211</td>\n",
              "      <td>0.450620</td>\n",
              "      <td>0.536665</td>\n",
              "      <td>0.562020</td>\n",
              "      <td>0.691104</td>\n",
              "      <td>0.346080</td>\n",
              "      <td>0.346367</td>\n",
              "      <td>0.329600</td>\n",
              "      <td>0.497851</td>\n",
              "      <td>0.541921</td>\n",
              "      <td>0.814703</td>\n",
              "      <td>0.450669</td>\n",
              "      <td>0.368341</td>\n",
              "      <td>0.457399</td>\n",
              "      <td>0.443808</td>\n",
              "      <td>0.561169</td>\n",
              "      <td>0.603692</td>\n",
              "      <td>0.783093</td>\n",
              "      <td>0.712219</td>\n",
              "      <td>0.542584</td>\n",
              "      <td>0.444619</td>\n",
              "      <td>0.684882</td>\n",
              "      <td>0.716066</td>\n",
              "      <td>0.927757</td>\n",
              "      <td>0.684899</td>\n",
              "      <td>0.257538</td>\n",
              "      <td>0.417413</td>\n",
              "      <td>0.518326</td>\n",
              "      <td>0.537263</td>\n",
              "      <td>0.568275</td>\n",
              "      <td>0.395923</td>\n",
              "    </tr>\n",
              "    <tr>\n",
              "      <th>Store2</th>\n",
              "      <td>0.126090</td>\n",
              "      <td>0.100738</td>\n",
              "      <td>0.073761</td>\n",
              "      <td>0.092867</td>\n",
              "      <td>0.131312</td>\n",
              "      <td>0.171079</td>\n",
              "      <td>0.198035</td>\n",
              "      <td>0.135110</td>\n",
              "      <td>0.122939</td>\n",
              "      <td>0.099018</td>\n",
              "      <td>0.093458</td>\n",
              "      <td>0.099327</td>\n",
              "      <td>0.140642</td>\n",
              "      <td>0.196260</td>\n",
              "      <td>0.117380</td>\n",
              "      <td>0.088670</td>\n",
              "      <td>0.131801</td>\n",
              "      <td>0.072048</td>\n",
              "      <td>0.176893</td>\n",
              "      <td>0.084459</td>\n",
              "      <td>0.163195</td>\n",
              "      <td>0.205493</td>\n",
              "      <td>0.004273</td>\n",
              "      <td>0.093431</td>\n",
              "      <td>0.153253</td>\n",
              "      <td>0.066248</td>\n",
              "      <td>0.189772</td>\n",
              "      <td>0.217471</td>\n",
              "      <td>0.124653</td>\n",
              "      <td>0.092812</td>\n",
              "      <td>0.090679</td>\n",
              "      <td>0.071614</td>\n",
              "      <td>0.108299</td>\n",
              "      <td>0.138000</td>\n",
              "      <td>0.171203</td>\n",
              "      <td>0.151409</td>\n",
              "      <td>0.104583</td>\n",
              "      <td>0.095770</td>\n",
              "      <td>0.075976</td>\n",
              "      <td>0.128629</td>\n",
              "      <td>...</td>\n",
              "      <td>-0.060104</td>\n",
              "      <td>0.127067</td>\n",
              "      <td>0.170639</td>\n",
              "      <td>0.507884</td>\n",
              "      <td>0.580373</td>\n",
              "      <td>0.691162</td>\n",
              "      <td>0.752848</td>\n",
              "      <td>0.487554</td>\n",
              "      <td>0.604982</td>\n",
              "      <td>0.474269</td>\n",
              "      <td>0.669724</td>\n",
              "      <td>0.634133</td>\n",
              "      <td>0.788143</td>\n",
              "      <td>0.744812</td>\n",
              "      <td>0.467299</td>\n",
              "      <td>0.374494</td>\n",
              "      <td>0.388784</td>\n",
              "      <td>0.597896</td>\n",
              "      <td>0.583152</td>\n",
              "      <td>0.865894</td>\n",
              "      <td>0.552729</td>\n",
              "      <td>0.528820</td>\n",
              "      <td>0.405241</td>\n",
              "      <td>0.443439</td>\n",
              "      <td>0.688492</td>\n",
              "      <td>0.711155</td>\n",
              "      <td>0.870786</td>\n",
              "      <td>0.614780</td>\n",
              "      <td>0.707316</td>\n",
              "      <td>0.522910</td>\n",
              "      <td>0.663263</td>\n",
              "      <td>0.851604</td>\n",
              "      <td>1.156610</td>\n",
              "      <td>0.914178</td>\n",
              "      <td>0.289904</td>\n",
              "      <td>0.422895</td>\n",
              "      <td>0.501465</td>\n",
              "      <td>0.565869</td>\n",
              "      <td>0.632847</td>\n",
              "      <td>0.452156</td>\n",
              "    </tr>\n",
              "    <tr>\n",
              "      <th>Store3</th>\n",
              "      <td>0.110022</td>\n",
              "      <td>0.052628</td>\n",
              "      <td>0.072155</td>\n",
              "      <td>0.062194</td>\n",
              "      <td>0.077713</td>\n",
              "      <td>0.067137</td>\n",
              "      <td>0.105761</td>\n",
              "      <td>0.114073</td>\n",
              "      <td>0.102570</td>\n",
              "      <td>0.045176</td>\n",
              "      <td>0.056266</td>\n",
              "      <td>0.096617</td>\n",
              "      <td>0.100254</td>\n",
              "      <td>0.160293</td>\n",
              "      <td>0.149868</td>\n",
              "      <td>0.106048</td>\n",
              "      <td>0.053849</td>\n",
              "      <td>0.076568</td>\n",
              "      <td>0.054481</td>\n",
              "      <td>0.098924</td>\n",
              "      <td>0.131225</td>\n",
              "      <td>0.145969</td>\n",
              "      <td>0.082159</td>\n",
              "      <td>0.060173</td>\n",
              "      <td>0.056729</td>\n",
              "      <td>0.058337</td>\n",
              "      <td>0.061242</td>\n",
              "      <td>0.095775</td>\n",
              "      <td>0.105526</td>\n",
              "      <td>0.065048</td>\n",
              "      <td>0.070437</td>\n",
              "      <td>0.061225</td>\n",
              "      <td>0.075439</td>\n",
              "      <td>0.086504</td>\n",
              "      <td>0.197857</td>\n",
              "      <td>0.137768</td>\n",
              "      <td>0.086470</td>\n",
              "      <td>0.065015</td>\n",
              "      <td>0.072113</td>\n",
              "      <td>0.088441</td>\n",
              "      <td>...</td>\n",
              "      <td>-0.153203</td>\n",
              "      <td>-0.229593</td>\n",
              "      <td>-0.084702</td>\n",
              "      <td>0.587962</td>\n",
              "      <td>0.583170</td>\n",
              "      <td>0.724879</td>\n",
              "      <td>1.034383</td>\n",
              "      <td>0.636598</td>\n",
              "      <td>0.513474</td>\n",
              "      <td>0.442598</td>\n",
              "      <td>0.469797</td>\n",
              "      <td>0.478714</td>\n",
              "      <td>0.678751</td>\n",
              "      <td>0.857805</td>\n",
              "      <td>0.578084</td>\n",
              "      <td>0.326025</td>\n",
              "      <td>0.427214</td>\n",
              "      <td>0.474394</td>\n",
              "      <td>0.529523</td>\n",
              "      <td>0.813117</td>\n",
              "      <td>0.946650</td>\n",
              "      <td>0.624144</td>\n",
              "      <td>0.570203</td>\n",
              "      <td>0.518316</td>\n",
              "      <td>0.519065</td>\n",
              "      <td>0.633129</td>\n",
              "      <td>0.846210</td>\n",
              "      <td>1.051771</td>\n",
              "      <td>0.649179</td>\n",
              "      <td>0.568064</td>\n",
              "      <td>0.583979</td>\n",
              "      <td>0.606436</td>\n",
              "      <td>0.811964</td>\n",
              "      <td>1.026333</td>\n",
              "      <td>0.293050</td>\n",
              "      <td>0.522854</td>\n",
              "      <td>0.357080</td>\n",
              "      <td>0.377508</td>\n",
              "      <td>0.480272</td>\n",
              "      <td>0.445891</td>\n",
              "    </tr>\n",
              "    <tr>\n",
              "      <th>Store4</th>\n",
              "      <td>0.132510</td>\n",
              "      <td>0.077816</td>\n",
              "      <td>0.088079</td>\n",
              "      <td>0.052161</td>\n",
              "      <td>0.093076</td>\n",
              "      <td>0.129986</td>\n",
              "      <td>0.133671</td>\n",
              "      <td>0.124299</td>\n",
              "      <td>0.101317</td>\n",
              "      <td>0.062665</td>\n",
              "      <td>0.079528</td>\n",
              "      <td>0.085606</td>\n",
              "      <td>0.116608</td>\n",
              "      <td>0.197888</td>\n",
              "      <td>0.131458</td>\n",
              "      <td>0.110390</td>\n",
              "      <td>0.071026</td>\n",
              "      <td>0.093236</td>\n",
              "      <td>0.094088</td>\n",
              "      <td>0.130827</td>\n",
              "      <td>0.157163</td>\n",
              "      <td>0.159927</td>\n",
              "      <td>0.101468</td>\n",
              "      <td>0.083293</td>\n",
              "      <td>0.083203</td>\n",
              "      <td>0.106334</td>\n",
              "      <td>0.095439</td>\n",
              "      <td>0.142654</td>\n",
              "      <td>0.118220</td>\n",
              "      <td>0.091384</td>\n",
              "      <td>0.064127</td>\n",
              "      <td>0.070796</td>\n",
              "      <td>0.095820</td>\n",
              "      <td>0.126422</td>\n",
              "      <td>0.190038</td>\n",
              "      <td>0.130908</td>\n",
              "      <td>0.092275</td>\n",
              "      <td>0.097342</td>\n",
              "      <td>0.090973</td>\n",
              "      <td>0.117099</td>\n",
              "      <td>...</td>\n",
              "      <td>-0.179313</td>\n",
              "      <td>-0.136766</td>\n",
              "      <td>0.072068</td>\n",
              "      <td>0.455718</td>\n",
              "      <td>0.470448</td>\n",
              "      <td>0.651334</td>\n",
              "      <td>0.928399</td>\n",
              "      <td>0.465592</td>\n",
              "      <td>0.529899</td>\n",
              "      <td>0.485048</td>\n",
              "      <td>0.446886</td>\n",
              "      <td>0.479811</td>\n",
              "      <td>0.576352</td>\n",
              "      <td>0.774821</td>\n",
              "      <td>0.540153</td>\n",
              "      <td>0.401795</td>\n",
              "      <td>0.429252</td>\n",
              "      <td>0.593796</td>\n",
              "      <td>0.604520</td>\n",
              "      <td>0.646617</td>\n",
              "      <td>0.854129</td>\n",
              "      <td>0.560490</td>\n",
              "      <td>0.455368</td>\n",
              "      <td>0.443141</td>\n",
              "      <td>0.527956</td>\n",
              "      <td>0.596159</td>\n",
              "      <td>0.749547</td>\n",
              "      <td>0.960052</td>\n",
              "      <td>0.603318</td>\n",
              "      <td>0.558748</td>\n",
              "      <td>0.635482</td>\n",
              "      <td>0.546752</td>\n",
              "      <td>0.912528</td>\n",
              "      <td>1.074418</td>\n",
              "      <td>0.424786</td>\n",
              "      <td>0.462207</td>\n",
              "      <td>0.445194</td>\n",
              "      <td>0.487932</td>\n",
              "      <td>0.669248</td>\n",
              "      <td>0.562743</td>\n",
              "    </tr>\n",
              "  </tbody>\n",
              "</table>\n",
              "<p>4 rows × 334 columns</p>\n",
              "</div>"
            ],
            "text/plain": [
              "SALES_DATE  2017-01-22  2017-01-23  ...  2017-12-30  2017-12-31\n",
              "SITE_NUM                            ...                        \n",
              "Store1        0.136428    0.134340  ...    0.568275    0.395923\n",
              "Store2        0.126090    0.100738  ...    0.632847    0.452156\n",
              "Store3        0.110022    0.052628  ...    0.480272    0.445891\n",
              "Store4        0.132510    0.077816  ...    0.669248    0.562743\n",
              "\n",
              "[4 rows x 334 columns]"
            ]
          },
          "metadata": {
            "tags": []
          },
          "execution_count": 93
        }
      ]
    },
    {
      "cell_type": "code",
      "metadata": {
        "id": "oUk3b8sK-8ck",
        "colab_type": "code",
        "colab": {}
      },
      "source": [
        "import scipy.cluster.hierarchy as hac\n",
        "import scipy.spatial.distance as scipydist"
      ],
      "execution_count": 0,
      "outputs": []
    },
    {
      "cell_type": "code",
      "metadata": {
        "id": "m_wDwdCH-yqu",
        "colab_type": "code",
        "outputId": "a7f624dd-506c-4862-b80d-59653050b3fc",
        "colab": {
          "base_uri": "https://localhost:8080/",
          "height": 51
        }
      },
      "source": [
        "# Computes euclidean pairwise distances between observations in n-dimensional space\n",
        "pdist_euclid = scipydist.pdist(preclass_pivot_euclid, metric='euclidean') \n",
        "pdist_euclid"
      ],
      "execution_count": 0,
      "outputs": [
        {
          "output_type": "execute_result",
          "data": {
            "text/plain": [
              "array([1.65260033, 2.70806849, 2.32749305, 2.05376433, 1.77270681,\n",
              "       1.49775112])"
            ]
          },
          "metadata": {
            "tags": []
          },
          "execution_count": 97
        }
      ]
    },
    {
      "cell_type": "code",
      "metadata": {
        "id": "uGfnWwwJ_MHd",
        "colab_type": "code",
        "outputId": "b3ad4dc0-ce18-4d43-9136-c6f14d68300b",
        "colab": {
          "base_uri": "https://localhost:8080/",
          "height": 85
        }
      },
      "source": [
        "# Shows in square (matrix) form\n",
        "pdist_euclid_squareform = scipydist.squareform(pdist_euclid)\n",
        "pdist_euclid_squareform"
      ],
      "execution_count": 0,
      "outputs": [
        {
          "output_type": "execute_result",
          "data": {
            "text/plain": [
              "array([[0.        , 1.65260033, 2.70806849, 2.32749305],\n",
              "       [1.65260033, 0.        , 2.05376433, 1.77270681],\n",
              "       [2.70806849, 2.05376433, 0.        , 1.49775112],\n",
              "       [2.32749305, 1.77270681, 1.49775112, 0.        ]])"
            ]
          },
          "metadata": {
            "tags": []
          },
          "execution_count": 98
        }
      ]
    },
    {
      "cell_type": "code",
      "metadata": {
        "id": "Nb4uWYR7_T2f",
        "colab_type": "code",
        "colab": {}
      },
      "source": [
        "import matplotlib.pyplot as plt\n"
      ],
      "execution_count": 0,
      "outputs": []
    },
    {
      "cell_type": "code",
      "metadata": {
        "id": "5WRlpjMF_PXJ",
        "colab_type": "code",
        "outputId": "41bebf15-bb10-43af-e2dd-ef5e87c81d00",
        "colab": {
          "base_uri": "https://localhost:8080/",
          "height": 472
        }
      },
      "source": [
        "plt.figure(figsize=(8,8))\n",
        "plt.imshow(pdist_euclid_squareform)\n",
        "cbar = plt.colorbar()\n",
        "cbar.set_label('Eculidean Distance')"
      ],
      "execution_count": 0,
      "outputs": [
        {
          "output_type": "display_data",
          "data": {
            "image/png": "[encoded data removed]",
            "text/plain": [
              "<Figure size 576x576 with 2 Axes>"
            ]
          },
          "metadata": {
            "tags": []
          }
        }
      ]
    },
    {
      "cell_type": "code",
      "metadata": {
        "id": "wu2sNVCT_bN8",
        "colab_type": "code",
        "colab": {}
      },
      "source": [
        "# Performs hierarchical/agglomerative clustering\n",
        "clusters_hac = hac.linkage(pdist_euclid, method='complete')"
      ],
      "execution_count": 0,
      "outputs": []
    },
    {
      "cell_type": "code",
      "metadata": {
        "id": "TQTmDPsH_ent",
        "colab_type": "code",
        "outputId": "ff818cb7-9505-4ef5-e1b0-7b0f47906170",
        "colab": {
          "base_uri": "https://localhost:8080/",
          "height": 662
        }
      },
      "source": [
        "font_size = 18\n",
        "plt.figure(figsize=(25, 10))\n",
        "\n",
        "dendogram = hac.dendrogram(clusters_hac, labels=preclass_pivot_euclid.index)\n",
        "\n",
        "plt.title('Hierarchical Clustering Dendrogram', fontsize=font_size)\n",
        "plt.xlabel('SITE_NUM', fontsize=font_size)\n",
        "plt.ylabel('Distance', fontsize=font_size)\n",
        "plt.xticks(fontsize=font_size)\n",
        "plt.yticks(fontsize=font_size);"
      ],
      "execution_count": 0,
      "outputs": [
        {
          "output_type": "display_data",
          "data": {
            "image/png": "[encoded data removed]",
            "text/plain": [
              "<Figure size 1800x720 with 1 Axes>"
            ]
          },
          "metadata": {
            "tags": []
          }
        }
      ]
    }
  ]
}