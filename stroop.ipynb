{
  "nbformat": 4,
  "nbformat_minor": 0,
  "metadata": {
    "colab": {
      "name": "stroop.ipynb",
      "provenance": [],
      "collapsed_sections": [],
      "authorship_tag": "ABX9TyONRDS+cbHb20Y0Bs4O9kiw"
    },
    "kernelspec": {
      "name": "python3",
      "display_name": "Python 3"
    }
  },
  "cells": [
    {
      "cell_type": "markdown",
      "metadata": {
        "id": "WtGVX9cTbvAl",
        "colab_type": "text"
      },
      "source": [
        "Stroop Effect (斯特鲁普效应) \\\\  \n",
        "In psychology, the Stroop effect is the delay in reaction time between congruent and incongruent stimuli.\n",
        "\n",
        "The effect has been used to create a psychological test (the Stroop test) that is widely used in clinical practice and investigation.\n",
        "\n",
        "A basic task that demonstrates this effect occurs when there is a mismatch between the name of a color (e.g., \"blue\", \"green\", or \"red\") and the color it is printed on (i.e., the word \"red\" printed in blue ink instead of red ink). When asked to name the color of the word it takes longer and is more prone to errors when the color of the ink does not match the name of the color. \\\\\n",
        "\n",
        "斯特鲁普效应（英语：Stroop Effect），又译Stroop效应、司楚卜效应、史楚普效应[1]，是由美国的实验心理学家约翰·莱德利·斯特鲁普于1935年最先以英语提出的效应，因此以他的名字命名。[2]\n",
        "\n",
        "这个效应展示了人们对事物的认知过程已是一个自动化的历程。当有一个新的刺激出现时，如果它的特征和原先的刺激相似或符合一致，便会加速人们的认知；反之，若新的刺激特征与原先的刺激不相同，则会干扰人们的认知，使人们的所需的反应时间变长[3]。\n",
        "\n",
        "在心理学中，斯特鲁普效应是干扰对处理任务时反应时间的论证。例如，将一个颜色的名称（例如“蓝色”、“绿色”、“红色”、“橘色”）以不是它所代表的颜色显示时（例如文字“红色”以绿色油墨显示，而非红色油墨；或是文字“橘色”是以蓝色油墨显示而非橘色油墨），对比于文字及其颜色一致时，前者必须花较长的时间来辨识文字的颜色，而且辨识过程也更容易出错。斯特鲁普效应也被用来创造一个心理学上著名的实验，即“斯特鲁普实验”（Stroop Test），或称为“斯特鲁普颜色与文字实验”（Stroop Color and Word Test，简称SCWT）。[4][5]\n",
        "\n",
        "斯特鲁普颜色与文字实验（SCWT）是一个在神经心理学领域被广泛运用于临床与调查中的实验。此实验评估人们在处理一个特定刺激特征、而此刺激妨碍同时第二个刺激特性的处理时，抑制认知干扰的能力。 \\\\\n",
        "(https://zh.wikipedia.org/wiki/%E6%96%AF%E7%89%B9%E9%B2%81%E6%99%AE%E6%95%88%E5%BA%94)\n",
        "\n"
      ]
    },
    {
      "cell_type": "code",
      "metadata": {
        "id": "oANvwmrpcXJw",
        "colab_type": "code",
        "colab": {
          "base_uri": "https://localhost:8080/",
          "height": 122
        },
        "outputId": "3f04af69-eeca-4243-8238-7f621be117a1"
      },
      "source": [
        "from google.colab import drive\n",
        "drive.mount('/content/drive')"
      ],
      "execution_count": 2,
      "outputs": [
        {
          "output_type": "stream",
          "text": [
            "Go to this URL in a browser: https://accounts.google.com/o/oauth2/auth?client_id=947318989803-6bn6qk8qdgf4n4g3pfee6491hc0brc4i.apps.googleusercontent.com&redirect_uri=urn%3aietf%3awg%3aoauth%3a2.0%3aoob&response_type=code&scope=email%20https%3a%2f%2fwww.googleapis.com%2fauth%2fdocs.test%20https%3a%2f%2fwww.googleapis.com%2fauth%2fdrive%20https%3a%2f%2fwww.googleapis.com%2fauth%2fdrive.photos.readonly%20https%3a%2f%2fwww.googleapis.com%2fauth%2fpeopleapi.readonly\n",
            "\n",
            "Enter your authorization code:\n",
            "··········\n",
            "Mounted at /content/drive\n"
          ],
          "name": "stdout"
        }
      ]
    },
    {
      "cell_type": "code",
      "metadata": {
        "id": "s3892RP0eXIt",
        "colab_type": "code",
        "colab": {}
      },
      "source": [
        "import os\n",
        "save_path = '/content/drive/My Drive/Colab Datasets'\n",
        "os.chdir(save_path)"
      ],
      "execution_count": 0,
      "outputs": []
    },
    {
      "cell_type": "code",
      "metadata": {
        "id": "lToGa6FNehYc",
        "colab_type": "code",
        "colab": {}
      },
      "source": [
        "#Read data \n",
        "import pandas as pd\n",
        "df = pd.read_csv('斯特鲁普数据集.csv')"
      ],
      "execution_count": 0,
      "outputs": []
    },
    {
      "cell_type": "code",
      "metadata": {
        "id": "7JxNsUnseu5R",
        "colab_type": "code",
        "colab": {
          "base_uri": "https://localhost:8080/",
          "height": 204
        },
        "outputId": "b5f4813c-af3d-44be-d4e3-401bcb4e5776"
      },
      "source": [
        "import numpy as np\n",
        "import matplotlib.pyplot as plt\n",
        "\n",
        "df.head()"
      ],
      "execution_count": 5,
      "outputs": [
        {
          "output_type": "execute_result",
          "data": {
            "text/html": [
              "<div>\n",
              "<style scoped>\n",
              "    .dataframe tbody tr th:only-of-type {\n",
              "        vertical-align: middle;\n",
              "    }\n",
              "\n",
              "    .dataframe tbody tr th {\n",
              "        vertical-align: top;\n",
              "    }\n",
              "\n",
              "    .dataframe thead th {\n",
              "        text-align: right;\n",
              "    }\n",
              "</style>\n",
              "<table border=\"1\" class=\"dataframe\">\n",
              "  <thead>\n",
              "    <tr style=\"text-align: right;\">\n",
              "      <th></th>\n",
              "      <th>Congruent</th>\n",
              "      <th>Incongruent</th>\n",
              "    </tr>\n",
              "  </thead>\n",
              "  <tbody>\n",
              "    <tr>\n",
              "      <th>0</th>\n",
              "      <td>12.079</td>\n",
              "      <td>19.278</td>\n",
              "    </tr>\n",
              "    <tr>\n",
              "      <th>1</th>\n",
              "      <td>16.791</td>\n",
              "      <td>18.741</td>\n",
              "    </tr>\n",
              "    <tr>\n",
              "      <th>2</th>\n",
              "      <td>9.564</td>\n",
              "      <td>21.214</td>\n",
              "    </tr>\n",
              "    <tr>\n",
              "      <th>3</th>\n",
              "      <td>8.630</td>\n",
              "      <td>15.687</td>\n",
              "    </tr>\n",
              "    <tr>\n",
              "      <th>4</th>\n",
              "      <td>14.669</td>\n",
              "      <td>22.803</td>\n",
              "    </tr>\n",
              "  </tbody>\n",
              "</table>\n",
              "</div>"
            ],
            "text/plain": [
              "   Congruent  Incongruent\n",
              "0     12.079       19.278\n",
              "1     16.791       18.741\n",
              "2      9.564       21.214\n",
              "3      8.630       15.687\n",
              "4     14.669       22.803"
            ]
          },
          "metadata": {
            "tags": []
          },
          "execution_count": 5
        }
      ]
    },
    {
      "cell_type": "code",
      "metadata": {
        "id": "UYUX0wHCe8z8",
        "colab_type": "code",
        "colab": {}
      },
      "source": [
        "# 描述性统计信息\n",
        "#第一组\n",
        "col1_mean = df['Congruent'].mean()\n",
        "col1_std = df['Congruent'].std()\n",
        "\n",
        "#第二组\n",
        "col2_mean = df['Incongruent'].mean()\n",
        "col2_std = df['Incongruent'].std()"
      ],
      "execution_count": 0,
      "outputs": []
    },
    {
      "cell_type": "code",
      "metadata": {
        "id": "5xpwGm5xfcSi",
        "colab_type": "code",
        "colab": {
          "base_uri": "https://localhost:8080/",
          "height": 153
        },
        "outputId": "520bd87c-ba43-4a5f-805c-4bec4d657822"
      },
      "source": [
        "print('第一组-字体和颜色一致时，被测者平均反应时间\\n', col1_mean, '秒\\n反应时间标准差\\n', col1_std, '秒')\n",
        "print('第二组-字体和颜色不一致时，被测者平均反应时间\\n', col2_mean, '秒\\n反应时间标准差\\n', col2_std, '秒')"
      ],
      "execution_count": 8,
      "outputs": [
        {
          "output_type": "stream",
          "text": [
            "第一组-字体和颜色一致时，被测者平均反应时间\n",
            " 13.926875000000003 秒\n",
            "反应时间标准差\n",
            " 3.5402194271529703 秒\n",
            "第二组-字体和颜色不一致时，被测者平均反应时间\n",
            " 22.35075 秒\n",
            "反应时间标准差\n",
            " 5.010217727196399 秒\n"
          ],
          "name": "stdout"
        }
      ]
    },
    {
      "cell_type": "code",
      "metadata": {
        "id": "_l4tIFm3gEUq",
        "colab_type": "code",
        "colab": {
          "base_uri": "https://localhost:8080/",
          "height": 370
        },
        "outputId": "d59f3fbd-0154-40e6-b19a-7e7a239281ca"
      },
      "source": [
        "fg = plt.figure(figsize = (5, 5))\n",
        "ax = fg.add_subplot(1,1,1)\n",
        "df.mean().plot(kind = 'bar', ax = ax)\n",
        "plt.show()"
      ],
      "execution_count": 9,
      "outputs": [
        {
          "output_type": "display_data",
          "data": {
            "image/png": "[encoded data removed]",
            "text/plain": [
              "<Figure size 360x360 with 1 Axes>"
            ]
          },
          "metadata": {
            "tags": [],
            "needs_background": "light"
          }
        }
      ]
    },
    {
      "cell_type": "code",
      "metadata": {
        "id": "U_ZElu1TgY78",
        "colab_type": "code",
        "colab": {
          "base_uri": "https://localhost:8080/",
          "height": 370
        },
        "outputId": "016ee5b0-a97b-403d-9598-a1b9e6721752"
      },
      "source": [
        "fg = plt.figure(figsize = (5, 5))\n",
        "ax = fg.add_subplot(1,1,1)\n",
        "df.std().plot(kind = 'bar', ax = ax, color = 'orange')\n",
        "plt.show()"
      ],
      "execution_count": 11,
      "outputs": [
        {
          "output_type": "display_data",
          "data": {
            "image/png": "[encoded data removed]",
            "text/plain": [
              "<Figure size 360x360 with 1 Axes>"
            ]
          },
          "metadata": {
            "tags": [],
            "needs_background": "light"
          }
        }
      ]
    },
    {
      "cell_type": "code",
      "metadata": {
        "id": "D_-J7Ap2gzIT",
        "colab_type": "code",
        "colab": {}
      },
      "source": [
        "# 假设检验\n",
        "# Null Hypothesis(H0): Congruent组与Incongruent组识别时间均值没有差异 (Col1_mean = Col2_mean)\n",
        "# Alternative Hypothesis(H1): Congruent组与Incongruent组识别时间均值有差异 (Col1_mean != Col2_mean)"
      ],
      "execution_count": 0,
      "outputs": []
    },
    {
      "cell_type": "code",
      "metadata": {
        "id": "VPti7wCohszN",
        "colab_type": "code",
        "colab": {
          "base_uri": "https://localhost:8080/",
          "height": 204
        },
        "outputId": "c6342dd2-64ba-4c67-c2a2-053f888fab0a"
      },
      "source": [
        "# 选择检验方法\n",
        "# paired t- test\n",
        "df['Deviance'] = df['Congruent'] - df['Incongruent']\n",
        "df.head()"
      ],
      "execution_count": 13,
      "outputs": [
        {
          "output_type": "execute_result",
          "data": {
            "text/html": [
              "<div>\n",
              "<style scoped>\n",
              "    .dataframe tbody tr th:only-of-type {\n",
              "        vertical-align: middle;\n",
              "    }\n",
              "\n",
              "    .dataframe tbody tr th {\n",
              "        vertical-align: top;\n",
              "    }\n",
              "\n",
              "    .dataframe thead th {\n",
              "        text-align: right;\n",
              "    }\n",
              "</style>\n",
              "<table border=\"1\" class=\"dataframe\">\n",
              "  <thead>\n",
              "    <tr style=\"text-align: right;\">\n",
              "      <th></th>\n",
              "      <th>Congruent</th>\n",
              "      <th>Incongruent</th>\n",
              "      <th>Deviance</th>\n",
              "    </tr>\n",
              "  </thead>\n",
              "  <tbody>\n",
              "    <tr>\n",
              "      <th>0</th>\n",
              "      <td>12.079</td>\n",
              "      <td>19.278</td>\n",
              "      <td>-7.199</td>\n",
              "    </tr>\n",
              "    <tr>\n",
              "      <th>1</th>\n",
              "      <td>16.791</td>\n",
              "      <td>18.741</td>\n",
              "      <td>-1.950</td>\n",
              "    </tr>\n",
              "    <tr>\n",
              "      <th>2</th>\n",
              "      <td>9.564</td>\n",
              "      <td>21.214</td>\n",
              "      <td>-11.650</td>\n",
              "    </tr>\n",
              "    <tr>\n",
              "      <th>3</th>\n",
              "      <td>8.630</td>\n",
              "      <td>15.687</td>\n",
              "      <td>-7.057</td>\n",
              "    </tr>\n",
              "    <tr>\n",
              "      <th>4</th>\n",
              "      <td>14.669</td>\n",
              "      <td>22.803</td>\n",
              "      <td>-8.134</td>\n",
              "    </tr>\n",
              "  </tbody>\n",
              "</table>\n",
              "</div>"
            ],
            "text/plain": [
              "   Congruent  Incongruent  Deviance\n",
              "0     12.079       19.278    -7.199\n",
              "1     16.791       18.741    -1.950\n",
              "2      9.564       21.214   -11.650\n",
              "3      8.630       15.687    -7.057\n",
              "4     14.669       22.803    -8.134"
            ]
          },
          "metadata": {
            "tags": []
          },
          "execution_count": 13
        }
      ]
    },
    {
      "cell_type": "code",
      "metadata": {
        "id": "BUt3o4CsjD8p",
        "colab_type": "code",
        "colab": {
          "base_uri": "https://localhost:8080/",
          "height": 295
        },
        "outputId": "e977e07e-175e-4f50-ad7c-592b970e7fe2"
      },
      "source": [
        "# 查看数据分布\n",
        "import seaborn as sns\n",
        "sns.distplot(df['Deviance'])\n",
        "plt.title('deviance distribution')\n",
        "plt.show() # the distribution is near normal, thus fits requirement of t-test"
      ],
      "execution_count": 15,
      "outputs": [
        {
          "output_type": "display_data",
          "data": {
            "image/png": "[encoded data removed]",
            "text/plain": [
              "<Figure size 432x288 with 1 Axes>"
            ]
          },
          "metadata": {
            "tags": [],
            "needs_background": "light"
          }
        }
      ]
    },
    {
      "cell_type": "code",
      "metadata": {
        "id": "He8bmS_HjWUq",
        "colab_type": "code",
        "colab": {
          "base_uri": "https://localhost:8080/",
          "height": 51
        },
        "outputId": "9a686245-8ca3-4539-cb7f-da21bf31e620"
      },
      "source": [
        "# 根据Stroop Effect的定义，一致条件和不一致条件比，反应时显著地小（ mean1 < mean2 ）\n",
        "# left tail t-test, significance level = 5%, df = n-1 = 23\n",
        "# compute p-value\n",
        "from scipy import stats\n",
        "t, p_twoTail = stats.ttest_rel(df['Congruent'], df['Incongruent'])\n",
        "p_oneTail = p_twoTail/2\n",
        "print('t值 = ', t, '\\n单位检验p值=', p_oneTail) "
      ],
      "execution_count": 16,
      "outputs": [
        {
          "output_type": "stream",
          "text": [
            "t值 =  -8.088610872807587 \n",
            "单位检验p值= 1.7743595748624577e-08\n"
          ],
          "name": "stdout"
        }
      ]
    },
    {
      "cell_type": "code",
      "metadata": {
        "id": "GIPU4fJgkuaM",
        "colab_type": "code",
        "colab": {
          "base_uri": "https://localhost:8080/",
          "height": 51
        },
        "outputId": "8dc1bc43-afa1-48b6-b201-db541bf61803"
      },
      "source": [
        "a = 0.05\n",
        "# draw conclusion\n",
        "if (t<0 and p_oneTail < a):\n",
        "  print('有统计显著的证据，拒绝零假设')\n",
        "  print('证明Stroop Effect成立')\n",
        "else:\n",
        "  print('没有统计显著的证据，无法拒绝零假设')\n",
        "  print('无法证实Stroop Effect')"
      ],
      "execution_count": 20,
      "outputs": [
        {
          "output_type": "stream",
          "text": [
            "有统计显著的证据，拒绝零假设\n",
            "证明Stroop Effect成立\n"
          ],
          "name": "stdout"
        }
      ]
    },
    {
      "cell_type": "code",
      "metadata": {
        "id": "FxuU6ZXcllw2",
        "colab_type": "code",
        "colab": {
          "base_uri": "https://localhost:8080/",
          "height": 34
        },
        "outputId": "2ad749f0-48af-4e7c-9fe8-5004b89ab4d9"
      },
      "source": [
        "# 置信区间\n",
        "t_ci = 2.069\n",
        "sample_mean = df['Deviance'].mean()\n",
        "se = stats.sem(df['Deviance'])\n",
        "lower = sample_mean - t_ci*se\n",
        "upper = sample_mean + t_ci*se\n",
        "print('两组平均值差值的置信区间，.95的置信水平 CI=[%f,%f]' % (round(lower,2), round(upper,2)))"
      ],
      "execution_count": 25,
      "outputs": [
        {
          "output_type": "stream",
          "text": [
            "两组平均值差值的置信区间，.95的置信水平 CI=[-10.580000,-6.270000]\n"
          ],
          "name": "stdout"
        }
      ]
    },
    {
      "cell_type": "code",
      "metadata": {
        "id": "G36-GFLimzJK",
        "colab_type": "code",
        "colab": {
          "base_uri": "https://localhost:8080/",
          "height": 34
        },
        "outputId": "dd8d226a-9719-42e8-9ef6-07c09b04b84a"
      },
      "source": [
        "# 效应量\n",
        "pop_mean = 0\n",
        "sample_std = df['Deviance'].std()\n",
        "d = (sample_mean - pop_mean)/ sample_std\n",
        "print('d = ', d)"
      ],
      "execution_count": 24,
      "outputs": [
        {
          "output_type": "stream",
          "text": [
            "d =  -1.6510807805255563\n"
          ],
          "name": "stdout"
        }
      ]
    }
  ]
}