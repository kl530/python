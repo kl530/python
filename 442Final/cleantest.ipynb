{
 "cells": [
  {
   "cell_type": "code",
   "execution_count": 38,
   "metadata": {},
   "outputs": [],
   "source": [
    "import pandas as pd\n",
    "import numpy as np\n",
    "import seaborn as sns\n",
    "\n",
    "import matplotlib.pyplot as plt\n",
    "import matplotlib.mlab as mlab\n",
    "import matplotlib\n",
    "plt.style.use('ggplot')\n",
    "from matplotlib.pyplot import figure\n",
    "\n",
    "%matplotlib inline\n",
    "matplotlib.rcParams['figure.figsize'] = (14,8)\n",
    "\n",
    "pd.options.mode.chained_assignment = None"
   ]
  },
  {
   "cell_type": "code",
   "execution_count": 8,
   "metadata": {},
   "outputs": [],
   "source": [
    "import pandas as pd\n",
    "pa = pd.read_csv('indeed_data.csv')"
   ]
  },
  {
   "cell_type": "code",
   "execution_count": 8,
   "metadata": {},
   "outputs": [
    {
     "data": {
      "text/plain": [
       "-                                   5251\n",
       "$40,000.00 /year                     102\n",
       "$65,000.00 to $70,000.00 /year        86\n",
       "$60.00 to $70.00 /hour                83\n",
       "$40.00 to $49.00 /hour                73\n",
       "                                    ... \n",
       "$30.00 /hour                           1\n",
       "$100,000.00 to $180,000.00 /year       1\n",
       "$90,000.00 to $95,000.00 /year         1\n",
       "$20,000.00 to $130,000.00 /year        1\n",
       "$50,000.00 to $60,000.00 /hour         1\n",
       "Name: Salary, Length: 102, dtype: int64"
      ]
     },
     "execution_count": 8,
     "metadata": {},
     "output_type": "execute_result"
    }
   ],
   "source": [
    "pa[\"Salary\"].value_counts()"
   ]
  },
  {
   "cell_type": "code",
   "execution_count": 17,
   "metadata": {},
   "outputs": [
    {
     "name": "stdout",
     "output_type": "stream",
     "text": [
      "$825.00 to $1,000.00 /week\n"
     ]
    }
   ],
   "source": [
    "import re\n",
    "for i in range(len(pa)):\n",
    "    value=pa[\"Salary\"].values[i]\n",
    "    if \"hour\" in value:\n",
    "        if \",\" in value:\n",
    "            pa[\"Salary\"].values[i]=value.replace(\"hour\",\"year\")\n",
    "    if 'hour' in value:\n",
    "        num=re.findall(\"\\$(\\d+)\",value)\n",
    "        num=sum([int(i) for i in num])/len(num)\n",
    "        pa[\"Salary\"].values[i]=num*52*40\n",
    "            #print(num)\n",
    "    elif 'week' in value:\n",
    "        print(value)\n",
    "        num=re.findall(\"\\$(\\d+,\\d+)\",value)\n",
    "        num =[eval(i.replace(\",\",\"\")) for i in num]\n",
    "        num=sum(num)/len(num)\n",
    "        pa[\"Salary\"].values[i]=num*52\n",
    "    elif 'year' in value:\n",
    "        num=re.findall(\"\\$(\\d+,\\d+)\",value)\n",
    "        num =[eval(i.replace(\",\",\"\")) for i in num]\n",
    "        num=sum(num)/len(num)\n",
    "        #print(num)\n",
    "        pa[\"Salary\"].values[i]=num"
   ]
  },
  {
   "cell_type": "code",
   "execution_count": 18,
   "metadata": {},
   "outputs": [
    {
     "data": {
      "text/plain": [
       "-           5251\n",
       "40000.0      106\n",
       "67500.0       86\n",
       "135200.0      83\n",
       "65000.0       75\n",
       "            ... \n",
       "28080.0        1\n",
       "48880.0        1\n",
       "95000.0        1\n",
       "23920.0        1\n",
       "37440.0        1\n",
       "Name: Salary, Length: 75, dtype: int64"
      ]
     },
     "execution_count": 18,
     "metadata": {},
     "output_type": "execute_result"
    }
   ],
   "source": [
    "pa[\"Salary\"].value_counts()"
   ]
  },
  {
   "cell_type": "code",
   "execution_count": 51,
   "metadata": {},
   "outputs": [],
   "source": [
    "import re\n",
    "num=re.search(\"\\$(.*\\.) to \\$(.*\\.)|\\$(.*\\.)\",value)\n",
    "num.group(2)"
   ]
  },
  {
   "cell_type": "code",
   "execution_count": 50,
   "metadata": {},
   "outputs": [
    {
     "name": "stdout",
     "output_type": "stream",
     "text": [
      "<re.Match object; span=(0, 22), match='$50,000.00 to $65,000.'>\n"
     ]
    }
   ],
   "source": [
    "print(num)"
   ]
  },
  {
   "cell_type": "code",
   "execution_count": 66,
   "metadata": {},
   "outputs": [
    {
     "data": {
      "text/plain": [
       "(6155, 10)"
      ]
     },
     "execution_count": 66,
     "metadata": {},
     "output_type": "execute_result"
    }
   ],
   "source": [
    "pa[\"Sala\"]"
   ]
  },
  {
   "cell_type": "code",
   "execution_count": 67,
   "metadata": {},
   "outputs": [
    {
     "data": {
      "text/plain": [
       "Unnamed: 0      int64\n",
       "Title          object\n",
       "Company        object\n",
       "Reviews        object\n",
       "Description    object\n",
       "Salary         object\n",
       "City           object\n",
       "State          object\n",
       "Pincode        object\n",
       "Source         object\n",
       "dtype: object"
      ]
     },
     "execution_count": 67,
     "metadata": {},
     "output_type": "execute_result"
    }
   ],
   "source": [
    "pa.dtypes"
   ]
  },
  {
   "cell_type": "code",
   "execution_count": 68,
   "metadata": {},
   "outputs": [
    {
     "data": {
      "text/plain": [
       "-                                  5251\n",
       "$40,000.00 /year                    102\n",
       "$65,000.00 to $70,000.00 /year       86\n",
       "$60.00 to $70.00 /hour               83\n",
       "$40.00 to $49.00 /hour               73\n",
       "                                   ... \n",
       "$30,000.00 to $60,000.00 /hour        1\n",
       "$10.25 to $11.00 /hour                1\n",
       "$60,000.00 to $85,000.00 /year        1\n",
       "$19.00 to $53.00 /hour                1\n",
       "$80,000.00 to $140,000.00 /year       1\n",
       "Name: Salary, Length: 102, dtype: int64"
      ]
     },
     "execution_count": 68,
     "metadata": {},
     "output_type": "execute_result"
    }
   ],
   "source": [
    "pa['Salary'].value_counts()"
   ]
  },
  {
   "cell_type": "code",
   "execution_count": 70,
   "metadata": {},
   "outputs": [],
   "source": [
    "pa['Salary'].replace('-',np.nan, inplace=True)  #convert '-' in 'Salary' to NAs."
   ]
  },
  {
   "cell_type": "code",
   "execution_count": 71,
   "metadata": {},
   "outputs": [
    {
     "data": {
      "text/plain": [
       "<matplotlib.axes._subplots.AxesSubplot at 0x123385a58>"
      ]
     },
     "execution_count": 71,
     "metadata": {},
     "output_type": "execute_result"
    },
    {
     "data": {
      "image/png": "[encoded data removed]",
      "text/plain": [
       "<Figure size 1008x576 with 2 Axes>"
      ]
     },
     "metadata": {
      "needs_background": "light"
     },
     "output_type": "display_data"
    }
   ],
   "source": [
    "cols = pa.columns[:30] # first 30 columns\n",
    "colours = ['#000099', '#ffff00'] # specify the colours - yellow is missing. blue is not missing.\n",
    "sns.heatmap(pa[cols].isna(), cmap=sns.color_palette(colours))"
   ]
  },
  {
   "cell_type": "code",
   "execution_count": 72,
   "metadata": {},
   "outputs": [
    {
     "name": "stdout",
     "output_type": "stream",
     "text": [
      "Unnamed: 0 - 0.0%\n",
      "Title - 0.0%\n",
      "Company - 0.0%\n",
      "Reviews - 34.0%\n",
      "Description - 0.0%\n",
      "Salary - 85.0%\n",
      "City - 0.0%\n",
      "State - 0.0%\n",
      "Pincode - 41.0%\n",
      "Source - 0.0%\n"
     ]
    }
   ],
   "source": [
    "for col in pa.columns:\n",
    "    pct_missing = np.mean(pa[col].isna())\n",
    "    print('{} - {}%'.format(col, round(pct_missing*100)))\n",
    "    #percentage of missing values "
   ]
  },
  {
   "cell_type": "code",
   "execution_count": 74,
   "metadata": {},
   "outputs": [
    {
     "name": "stdout",
     "output_type": "stream",
     "text": [
      "created missing indicator for: Reviews\n",
      "created missing indicator for: Salary\n",
      "created missing indicator for: City\n",
      "created missing indicator for: State\n",
      "created missing indicator for: Pincode\n"
     ]
    },
    {
     "data": {
      "text/plain": [
       "<matplotlib.axes._subplots.AxesSubplot at 0x12c6c4b00>"
      ]
     },
     "execution_count": 74,
     "metadata": {},
     "output_type": "execute_result"
    },
    {
     "data": {
      "image/png": "[encoded data removed]",
      "text/plain": [
       "<Figure size 1008x576 with 1 Axes>"
      ]
     },
     "metadata": {
      "needs_background": "light"
     },
     "output_type": "display_data"
    }
   ],
   "source": [
    "#create missing value histogram\n",
    "for col in pa.columns:\n",
    "    missing = pa[col].isna()\n",
    "    num_missing = np.sum(missing)\n",
    "    \n",
    "    if num_missing > 0:  \n",
    "        print('created missing indicator for: {}'.format(col))\n",
    "        pa['{}_ismissing'.format(col)] = missing #create missing indicator\n",
    "\n",
    "\n",
    "# then based on the indicator, plot the histogram of missing values\n",
    "ismissing_cols = [col for col in pa.columns if 'ismissing' in col]\n",
    "pa['num_missing'] = pa[ismissing_cols].sum(axis=1)\n",
    "\n",
    "pa['num_missing'].value_counts().reset_index().sort_values(by='index').plot.bar(y='num_missing')"
   ]
  },
  {
   "cell_type": "code",
   "execution_count": 44,
   "metadata": {},
   "outputs": [
    {
     "data": {
      "text/plain": [
       "<matplotlib.axes._subplots.AxesSubplot at 0x1229e9da0>"
      ]
     },
     "execution_count": 44,
     "metadata": {},
     "output_type": "execute_result"
    },
    {
     "data": {
      "image/png": "[encoded data removed]",
      "text/plain": [
       "<Figure size 1008x576 with 1 Axes>"
      ]
     },
     "metadata": {
      "needs_background": "light"
     },
     "output_type": "display_data"
    }
   ],
   "source": [
    "#histogram for checking on outliers\n",
    "#pa['Salary'].hist(bins=100)"
   ]
  },
  {
   "cell_type": "code",
   "execution_count": null,
   "metadata": {},
   "outputs": [],
   "source": []
  }
 ],
 "metadata": {
  "kernelspec": {
   "display_name": "Python 3",
   "language": "python",
   "name": "python3"
  },
  "language_info": {
   "codemirror_mode": {
    "name": "ipython",
    "version": 3
   },
   "file_extension": ".py",
   "mimetype": "text/x-python",
   "name": "python",
   "nbconvert_exporter": "python",
   "pygments_lexer": "ipython3",
   "version": "3.6.9"
  }
 },
 "nbformat": 4,
 "nbformat_minor": 2
}
